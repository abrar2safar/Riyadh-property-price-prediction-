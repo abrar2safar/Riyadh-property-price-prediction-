{
 "cells": [
  {
   "cell_type": "code",
   "execution_count": 2,
   "metadata": {},
   "outputs": [],
   "source": [
    "import numpy as np\n",
    "import scipy.stats as stats\n",
    "import seaborn as sns\n",
    "import matplotlib.pyplot as plt\n",
    "import pandas as pd\n",
    "\n",
    "sns.set(font_scale=1.5)\n",
    "%config InlineBackend.figure_format = 'retina'\n",
    "%matplotlib inline"
   ]
  },
  {
   "cell_type": "code",
   "execution_count": 191,
   "metadata": {},
   "outputs": [],
   "source": [
    "east= pd.read_csv('East villas.csv')"
   ]
  },
  {
   "cell_type": "code",
   "execution_count": 192,
   "metadata": {},
   "outputs": [
    {
     "data": {
      "text/html": [
       "<div>\n",
       "<style scoped>\n",
       "    .dataframe tbody tr th:only-of-type {\n",
       "        vertical-align: middle;\n",
       "    }\n",
       "\n",
       "    .dataframe tbody tr th {\n",
       "        vertical-align: top;\n",
       "    }\n",
       "\n",
       "    .dataframe thead th {\n",
       "        text-align: right;\n",
       "    }\n",
       "</style>\n",
       "<table border=\"1\" class=\"dataframe\">\n",
       "  <thead>\n",
       "    <tr style=\"text-align: right;\">\n",
       "      <th></th>\n",
       "      <th>title</th>\n",
       "      <th>price</th>\n",
       "      <th>beds</th>\n",
       "      <th>baths</th>\n",
       "      <th>size</th>\n",
       "      <th>details</th>\n",
       "      <th>time</th>\n",
       "    </tr>\n",
       "  </thead>\n",
       "  <tbody>\n",
       "    <tr>\n",
       "      <th>0</th>\n",
       "      <td>فيلا للبيع في حي القادسية ، الرياض ، الرياض</td>\n",
       "      <td>1,400,000 ريال</td>\n",
       "      <td>7</td>\n",
       "      <td>5</td>\n",
       "      <td>384 م²</td>\n",
       "      <td>فيلا للبيع في حي القادسية ، الرياض ، الرياضقبل...</td>\n",
       "      <td>قبل 52 ثانية</td>\n",
       "    </tr>\n",
       "    <tr>\n",
       "      <th>1</th>\n",
       "      <td>فيلا للبيع في الرياض ، حي الرمال ، الرياض</td>\n",
       "      <td>1,080,000 ريال</td>\n",
       "      <td>4</td>\n",
       "      <td>5</td>\n",
       "      <td>435 م²</td>\n",
       "      <td>فيلا للبيع في الرياض ، حي الرمال ، الرياضقبل 5...</td>\n",
       "      <td>قبل 52 ثانية</td>\n",
       "    </tr>\n",
       "  </tbody>\n",
       "</table>\n",
       "</div>"
      ],
      "text/plain": [
       "                                         title           price  beds  baths  \\\n",
       "0  فيلا للبيع في حي القادسية ، الرياض ، الرياض  1,400,000 ريال     7      5   \n",
       "1    فيلا للبيع في الرياض ، حي الرمال ، الرياض  1,080,000 ريال     4      5   \n",
       "\n",
       "     size                                            details          time  \n",
       "0  384 م²  فيلا للبيع في حي القادسية ، الرياض ، الرياضقبل...  قبل 52 ثانية  \n",
       "1  435 م²  فيلا للبيع في الرياض ، حي الرمال ، الرياضقبل 5...  قبل 52 ثانية  "
      ]
     },
     "execution_count": 192,
     "metadata": {},
     "output_type": "execute_result"
    }
   ],
   "source": [
    "east.head(2)"
   ]
  },
  {
   "cell_type": "code",
   "execution_count": 193,
   "metadata": {},
   "outputs": [],
   "source": [
    "#clean objects from values "
   ]
  },
  {
   "cell_type": "code",
   "execution_count": 194,
   "metadata": {},
   "outputs": [],
   "source": [
    "east=east.replace(regex=[r' ريال'], value='')"
   ]
  },
  {
   "cell_type": "code",
   "execution_count": 195,
   "metadata": {},
   "outputs": [],
   "source": [
    "east=east.replace(regex=[r' م²'], value='')"
   ]
  },
  {
   "cell_type": "code",
   "execution_count": 196,
   "metadata": {},
   "outputs": [],
   "source": [
    "east=east.replace(regex=[r','], value='')"
   ]
  },
  {
   "cell_type": "code",
   "execution_count": 197,
   "metadata": {},
   "outputs": [
    {
     "data": {
      "text/html": [
       "<div>\n",
       "<style scoped>\n",
       "    .dataframe tbody tr th:only-of-type {\n",
       "        vertical-align: middle;\n",
       "    }\n",
       "\n",
       "    .dataframe tbody tr th {\n",
       "        vertical-align: top;\n",
       "    }\n",
       "\n",
       "    .dataframe thead th {\n",
       "        text-align: right;\n",
       "    }\n",
       "</style>\n",
       "<table border=\"1\" class=\"dataframe\">\n",
       "  <thead>\n",
       "    <tr style=\"text-align: right;\">\n",
       "      <th></th>\n",
       "      <th>title</th>\n",
       "      <th>price</th>\n",
       "      <th>beds</th>\n",
       "      <th>baths</th>\n",
       "      <th>size</th>\n",
       "      <th>details</th>\n",
       "      <th>time</th>\n",
       "    </tr>\n",
       "  </thead>\n",
       "  <tbody>\n",
       "    <tr>\n",
       "      <th>0</th>\n",
       "      <td>فيلا للبيع في حي القادسية ، الرياض ، الرياض</td>\n",
       "      <td>1400000</td>\n",
       "      <td>7</td>\n",
       "      <td>5</td>\n",
       "      <td>384</td>\n",
       "      <td>فيلا للبيع في حي القادسية ، الرياض ، الرياضقبل...</td>\n",
       "      <td>قبل 52 ثانية</td>\n",
       "    </tr>\n",
       "    <tr>\n",
       "      <th>1</th>\n",
       "      <td>فيلا للبيع في الرياض ، حي الرمال ، الرياض</td>\n",
       "      <td>1080000</td>\n",
       "      <td>4</td>\n",
       "      <td>5</td>\n",
       "      <td>435</td>\n",
       "      <td>فيلا للبيع في الرياض ، حي الرمال ، الرياضقبل 5...</td>\n",
       "      <td>قبل 52 ثانية</td>\n",
       "    </tr>\n",
       "  </tbody>\n",
       "</table>\n",
       "</div>"
      ],
      "text/plain": [
       "                                         title    price  beds  baths size  \\\n",
       "0  فيلا للبيع في حي القادسية ، الرياض ، الرياض  1400000     7      5  384   \n",
       "1    فيلا للبيع في الرياض ، حي الرمال ، الرياض  1080000     4      5  435   \n",
       "\n",
       "                                             details          time  \n",
       "0  فيلا للبيع في حي القادسية ، الرياض ، الرياضقبل...  قبل 52 ثانية  \n",
       "1  فيلا للبيع في الرياض ، حي الرمال ، الرياضقبل 5...  قبل 52 ثانية  "
      ]
     },
     "execution_count": 197,
     "metadata": {},
     "output_type": "execute_result"
    }
   ],
   "source": [
    "east.head(2)"
   ]
  },
  {
   "cell_type": "code",
   "execution_count": 198,
   "metadata": {},
   "outputs": [
    {
     "data": {
      "text/plain": [
       "title      object\n",
       "price      object\n",
       "beds        int64\n",
       "baths       int64\n",
       "size       object\n",
       "details    object\n",
       "time       object\n",
       "dtype: object"
      ]
     },
     "execution_count": 198,
     "metadata": {},
     "output_type": "execute_result"
    }
   ],
   "source": [
    "east.dtypes"
   ]
  },
  {
   "cell_type": "code",
   "execution_count": 199,
   "metadata": {},
   "outputs": [],
   "source": [
    " # price and size are object and should be converted to int64 \n",
    "east['price'] = east['price'].astype('int64')"
   ]
  },
  {
   "cell_type": "code",
   "execution_count": 200,
   "metadata": {},
   "outputs": [],
   "source": [
    "east['size'] = east['size'].astype('int64')"
   ]
  },
  {
   "cell_type": "code",
   "execution_count": 201,
   "metadata": {},
   "outputs": [
    {
     "data": {
      "text/plain": [
       "title      object\n",
       "price       int64\n",
       "beds        int64\n",
       "baths       int64\n",
       "size        int64\n",
       "details    object\n",
       "time       object\n",
       "dtype: object"
      ]
     },
     "execution_count": 201,
     "metadata": {},
     "output_type": "execute_result"
    }
   ],
   "source": [
    "east.dtypes"
   ]
  },
  {
   "cell_type": "code",
   "execution_count": 202,
   "metadata": {},
   "outputs": [],
   "source": [
    "east['district'] = 'East'"
   ]
  },
  {
   "cell_type": "code",
   "execution_count": 203,
   "metadata": {},
   "outputs": [
    {
     "data": {
      "text/html": [
       "<div>\n",
       "<style scoped>\n",
       "    .dataframe tbody tr th:only-of-type {\n",
       "        vertical-align: middle;\n",
       "    }\n",
       "\n",
       "    .dataframe tbody tr th {\n",
       "        vertical-align: top;\n",
       "    }\n",
       "\n",
       "    .dataframe thead th {\n",
       "        text-align: right;\n",
       "    }\n",
       "</style>\n",
       "<table border=\"1\" class=\"dataframe\">\n",
       "  <thead>\n",
       "    <tr style=\"text-align: right;\">\n",
       "      <th></th>\n",
       "      <th>title</th>\n",
       "      <th>price</th>\n",
       "      <th>beds</th>\n",
       "      <th>baths</th>\n",
       "      <th>size</th>\n",
       "      <th>details</th>\n",
       "      <th>time</th>\n",
       "      <th>district</th>\n",
       "    </tr>\n",
       "  </thead>\n",
       "  <tbody>\n",
       "    <tr>\n",
       "      <th>0</th>\n",
       "      <td>فيلا للبيع في حي القادسية ، الرياض ، الرياض</td>\n",
       "      <td>1400000</td>\n",
       "      <td>7</td>\n",
       "      <td>5</td>\n",
       "      <td>384</td>\n",
       "      <td>فيلا للبيع في حي القادسية ، الرياض ، الرياضقبل...</td>\n",
       "      <td>قبل 52 ثانية</td>\n",
       "      <td>East</td>\n",
       "    </tr>\n",
       "    <tr>\n",
       "      <th>1</th>\n",
       "      <td>فيلا للبيع في الرياض ، حي الرمال ، الرياض</td>\n",
       "      <td>1080000</td>\n",
       "      <td>4</td>\n",
       "      <td>5</td>\n",
       "      <td>435</td>\n",
       "      <td>فيلا للبيع في الرياض ، حي الرمال ، الرياضقبل 5...</td>\n",
       "      <td>قبل 52 ثانية</td>\n",
       "      <td>East</td>\n",
       "    </tr>\n",
       "    <tr>\n",
       "      <th>2</th>\n",
       "      <td>فيلا للبيع في شارع خالد بن الوليد ، حي الاندلس...</td>\n",
       "      <td>1200000</td>\n",
       "      <td>7</td>\n",
       "      <td>5</td>\n",
       "      <td>500</td>\n",
       "      <td>فيلا للبيع في شارع خالد بن الوليد ، حي الاندلس...</td>\n",
       "      <td>قبل ساعة</td>\n",
       "      <td>East</td>\n",
       "    </tr>\n",
       "    <tr>\n",
       "      <th>3</th>\n",
       "      <td>احجز فيلا في مشروع واحة الدمام</td>\n",
       "      <td>698995</td>\n",
       "      <td>4</td>\n",
       "      <td>5</td>\n",
       "      <td>335</td>\n",
       "      <td>احجز فيلا في مشروع واحة الدمامإعلان6989953355 ...</td>\n",
       "      <td>NaN</td>\n",
       "      <td>East</td>\n",
       "    </tr>\n",
       "    <tr>\n",
       "      <th>4</th>\n",
       "      <td>فيلا للبيع في حي القادسية ، الرياض ، الرياض</td>\n",
       "      <td>1450000</td>\n",
       "      <td>4</td>\n",
       "      <td>4</td>\n",
       "      <td>300</td>\n",
       "      <td>فيلا للبيع في حي القادسية ، الرياض ، الرياضقبل...</td>\n",
       "      <td>قبل 3 ساعة</td>\n",
       "      <td>East</td>\n",
       "    </tr>\n",
       "  </tbody>\n",
       "</table>\n",
       "</div>"
      ],
      "text/plain": [
       "                                               title    price  beds  baths  \\\n",
       "0        فيلا للبيع في حي القادسية ، الرياض ، الرياض  1400000     7      5   \n",
       "1          فيلا للبيع في الرياض ، حي الرمال ، الرياض  1080000     4      5   \n",
       "2  فيلا للبيع في شارع خالد بن الوليد ، حي الاندلس...  1200000     7      5   \n",
       "3                     احجز فيلا في مشروع واحة الدمام   698995     4      5   \n",
       "4        فيلا للبيع في حي القادسية ، الرياض ، الرياض  1450000     4      4   \n",
       "\n",
       "   size                                            details          time  \\\n",
       "0   384  فيلا للبيع في حي القادسية ، الرياض ، الرياضقبل...  قبل 52 ثانية   \n",
       "1   435  فيلا للبيع في الرياض ، حي الرمال ، الرياضقبل 5...  قبل 52 ثانية   \n",
       "2   500  فيلا للبيع في شارع خالد بن الوليد ، حي الاندلس...      قبل ساعة   \n",
       "3   335  احجز فيلا في مشروع واحة الدمامإعلان6989953355 ...           NaN   \n",
       "4   300  فيلا للبيع في حي القادسية ، الرياض ، الرياضقبل...    قبل 3 ساعة   \n",
       "\n",
       "  district  \n",
       "0     East  \n",
       "1     East  \n",
       "2     East  \n",
       "3     East  \n",
       "4     East  "
      ]
     },
     "execution_count": 203,
     "metadata": {},
     "output_type": "execute_result"
    }
   ],
   "source": [
    "east.head()"
   ]
  },
  {
   "cell_type": "code",
   "execution_count": 204,
   "metadata": {},
   "outputs": [],
   "source": [
    "west= pd.read_csv('West villas3.csv')"
   ]
  },
  {
   "cell_type": "code",
   "execution_count": 205,
   "metadata": {},
   "outputs": [],
   "source": [
    "west=west.replace(regex=[r' ريال'], value='')"
   ]
  },
  {
   "cell_type": "code",
   "execution_count": 206,
   "metadata": {},
   "outputs": [],
   "source": [
    "west=west.replace(regex=[r' م²'], value='')"
   ]
  },
  {
   "cell_type": "code",
   "execution_count": 207,
   "metadata": {},
   "outputs": [],
   "source": [
    "west=west.replace(regex=[r','], value='')"
   ]
  },
  {
   "cell_type": "code",
   "execution_count": 208,
   "metadata": {},
   "outputs": [
    {
     "data": {
      "text/html": [
       "<div>\n",
       "<style scoped>\n",
       "    .dataframe tbody tr th:only-of-type {\n",
       "        vertical-align: middle;\n",
       "    }\n",
       "\n",
       "    .dataframe tbody tr th {\n",
       "        vertical-align: top;\n",
       "    }\n",
       "\n",
       "    .dataframe thead th {\n",
       "        text-align: right;\n",
       "    }\n",
       "</style>\n",
       "<table border=\"1\" class=\"dataframe\">\n",
       "  <thead>\n",
       "    <tr style=\"text-align: right;\">\n",
       "      <th></th>\n",
       "      <th>name</th>\n",
       "      <th>Price</th>\n",
       "      <th>Bedrooms</th>\n",
       "      <th>baths</th>\n",
       "      <th>space</th>\n",
       "      <th>details</th>\n",
       "      <th>time</th>\n",
       "    </tr>\n",
       "  </thead>\n",
       "  <tbody>\n",
       "    <tr>\n",
       "      <th>0</th>\n",
       "      <td>فيلا للبيع في شارع الدامر ، حي هجرة لبن ، الري...</td>\n",
       "      <td>3300000</td>\n",
       "      <td>7</td>\n",
       "      <td>5</td>\n",
       "      <td>503</td>\n",
       "      <td>#الخدمات \\n* يوجد اسبلت مخفي من شركة فوجي : \\n...</td>\n",
       "      <td>قبل دقيقتين</td>\n",
       "    </tr>\n",
       "    <tr>\n",
       "      <th>1</th>\n",
       "      <td>فيلا للبيع في شارع المعين ، حي الحزم ، الرياض ...</td>\n",
       "      <td>1350000</td>\n",
       "      <td>6</td>\n",
       "      <td>5</td>\n",
       "      <td>312</td>\n",
       "      <td>فلل تحت الانشاء\\nبنفس الصور. والتصميم مودرين \\...</td>\n",
       "      <td>قبل 8 ساعة</td>\n",
       "    </tr>\n",
       "  </tbody>\n",
       "</table>\n",
       "</div>"
      ],
      "text/plain": [
       "                                                name    Price  Bedrooms  \\\n",
       "0  فيلا للبيع في شارع الدامر ، حي هجرة لبن ، الري...  3300000         7   \n",
       "1  فيلا للبيع في شارع المعين ، حي الحزم ، الرياض ...  1350000         6   \n",
       "\n",
       "   baths space                                            details         time  \n",
       "0      5   503  #الخدمات \\n* يوجد اسبلت مخفي من شركة فوجي : \\n...  قبل دقيقتين  \n",
       "1      5   312  فلل تحت الانشاء\\nبنفس الصور. والتصميم مودرين \\...   قبل 8 ساعة  "
      ]
     },
     "execution_count": 208,
     "metadata": {},
     "output_type": "execute_result"
    }
   ],
   "source": [
    "west.head(2)"
   ]
  },
  {
   "cell_type": "code",
   "execution_count": 209,
   "metadata": {},
   "outputs": [
    {
     "data": {
      "text/plain": [
       "name        object\n",
       "Price       object\n",
       "Bedrooms     int64\n",
       "baths        int64\n",
       "space       object\n",
       "details     object\n",
       "time        object\n",
       "dtype: object"
      ]
     },
     "execution_count": 209,
     "metadata": {},
     "output_type": "execute_result"
    }
   ],
   "source": [
    "west.dtypes"
   ]
  },
  {
   "cell_type": "code",
   "execution_count": 210,
   "metadata": {},
   "outputs": [],
   "source": [
    " # price and size are object and should be converted to int64 \n",
    "west['Price'] = west['Price'].astype('int64')"
   ]
  },
  {
   "cell_type": "code",
   "execution_count": 211,
   "metadata": {},
   "outputs": [],
   "source": [
    "west['space'] = west['space'].astype('int64')"
   ]
  },
  {
   "cell_type": "code",
   "execution_count": 212,
   "metadata": {},
   "outputs": [
    {
     "data": {
      "text/html": [
       "<div>\n",
       "<style scoped>\n",
       "    .dataframe tbody tr th:only-of-type {\n",
       "        vertical-align: middle;\n",
       "    }\n",
       "\n",
       "    .dataframe tbody tr th {\n",
       "        vertical-align: top;\n",
       "    }\n",
       "\n",
       "    .dataframe thead th {\n",
       "        text-align: right;\n",
       "    }\n",
       "</style>\n",
       "<table border=\"1\" class=\"dataframe\">\n",
       "  <thead>\n",
       "    <tr style=\"text-align: right;\">\n",
       "      <th></th>\n",
       "      <th>name</th>\n",
       "      <th>Price</th>\n",
       "      <th>Bedrooms</th>\n",
       "      <th>baths</th>\n",
       "      <th>space</th>\n",
       "      <th>details</th>\n",
       "      <th>time</th>\n",
       "    </tr>\n",
       "  </thead>\n",
       "  <tbody>\n",
       "    <tr>\n",
       "      <th>0</th>\n",
       "      <td>فيلا للبيع في شارع الدامر ، حي هجرة لبن ، الري...</td>\n",
       "      <td>3300000</td>\n",
       "      <td>7</td>\n",
       "      <td>5</td>\n",
       "      <td>503</td>\n",
       "      <td>#الخدمات \\n* يوجد اسبلت مخفي من شركة فوجي : \\n...</td>\n",
       "      <td>قبل دقيقتين</td>\n",
       "    </tr>\n",
       "    <tr>\n",
       "      <th>1</th>\n",
       "      <td>فيلا للبيع في شارع المعين ، حي الحزم ، الرياض ...</td>\n",
       "      <td>1350000</td>\n",
       "      <td>6</td>\n",
       "      <td>5</td>\n",
       "      <td>312</td>\n",
       "      <td>فلل تحت الانشاء\\nبنفس الصور. والتصميم مودرين \\...</td>\n",
       "      <td>قبل 8 ساعة</td>\n",
       "    </tr>\n",
       "  </tbody>\n",
       "</table>\n",
       "</div>"
      ],
      "text/plain": [
       "                                                name    Price  Bedrooms  \\\n",
       "0  فيلا للبيع في شارع الدامر ، حي هجرة لبن ، الري...  3300000         7   \n",
       "1  فيلا للبيع في شارع المعين ، حي الحزم ، الرياض ...  1350000         6   \n",
       "\n",
       "   baths  space                                            details  \\\n",
       "0      5    503  #الخدمات \\n* يوجد اسبلت مخفي من شركة فوجي : \\n...   \n",
       "1      5    312  فلل تحت الانشاء\\nبنفس الصور. والتصميم مودرين \\...   \n",
       "\n",
       "          time  \n",
       "0  قبل دقيقتين  \n",
       "1   قبل 8 ساعة  "
      ]
     },
     "execution_count": 212,
     "metadata": {},
     "output_type": "execute_result"
    }
   ],
   "source": [
    "west.head(2)"
   ]
  },
  {
   "cell_type": "code",
   "execution_count": 213,
   "metadata": {},
   "outputs": [],
   "source": [
    "west['district'] = 'west'"
   ]
  },
  {
   "cell_type": "code",
   "execution_count": 214,
   "metadata": {},
   "outputs": [],
   "source": [
    "north= pd.read_csv('North-villas.csv')"
   ]
  },
  {
   "cell_type": "code",
   "execution_count": 215,
   "metadata": {},
   "outputs": [],
   "source": [
    "north=north.replace(regex=[r' ريال'], value='')"
   ]
  },
  {
   "cell_type": "code",
   "execution_count": 216,
   "metadata": {},
   "outputs": [],
   "source": [
    "north=north.replace(regex=[r','], value='')"
   ]
  },
  {
   "cell_type": "code",
   "execution_count": 217,
   "metadata": {},
   "outputs": [],
   "source": [
    "north=north.replace(regex=[r' م²'], value='')"
   ]
  },
  {
   "cell_type": "code",
   "execution_count": 218,
   "metadata": {},
   "outputs": [
    {
     "data": {
      "text/html": [
       "<div>\n",
       "<style scoped>\n",
       "    .dataframe tbody tr th:only-of-type {\n",
       "        vertical-align: middle;\n",
       "    }\n",
       "\n",
       "    .dataframe tbody tr th {\n",
       "        vertical-align: top;\n",
       "    }\n",
       "\n",
       "    .dataframe thead th {\n",
       "        text-align: right;\n",
       "    }\n",
       "</style>\n",
       "<table border=\"1\" class=\"dataframe\">\n",
       "  <thead>\n",
       "    <tr style=\"text-align: right;\">\n",
       "      <th></th>\n",
       "      <th>name</th>\n",
       "      <th>price</th>\n",
       "      <th>Bedrooms</th>\n",
       "      <th>baths</th>\n",
       "      <th>space</th>\n",
       "      <th>details</th>\n",
       "      <th>time</th>\n",
       "    </tr>\n",
       "  </thead>\n",
       "  <tbody>\n",
       "    <tr>\n",
       "      <th>0</th>\n",
       "      <td>فيلا للبيع في شارع الحيازين ، حي النفل ، الريا...</td>\n",
       "      <td>3300000</td>\n",
       "      <td>5</td>\n",
       "      <td>5</td>\n",
       "      <td>425</td>\n",
       "      <td>فيلا مميزة مع شقة بناء شخصي في الرياض الحي الن...</td>\n",
       "      <td>قبل 4 دقيقة</td>\n",
       "    </tr>\n",
       "    <tr>\n",
       "      <th>1</th>\n",
       "      <td>فيلا للبيع في حي حطين ، الرياض ، الرياض</td>\n",
       "      <td>2200000</td>\n",
       "      <td>2</td>\n",
       "      <td>4</td>\n",
       "      <td>306</td>\n",
       "      <td>للبيع بحطين النموزجي درج صاله\\nالمساحه ٣٠٦ متر...</td>\n",
       "      <td>قبل 4 دقيقة</td>\n",
       "    </tr>\n",
       "  </tbody>\n",
       "</table>\n",
       "</div>"
      ],
      "text/plain": [
       "                                                name    price  Bedrooms  \\\n",
       "0  فيلا للبيع في شارع الحيازين ، حي النفل ، الريا...  3300000         5   \n",
       "1            فيلا للبيع في حي حطين ، الرياض ، الرياض  2200000         2   \n",
       "\n",
       "   baths space                                            details         time  \n",
       "0      5   425  فيلا مميزة مع شقة بناء شخصي في الرياض الحي الن...  قبل 4 دقيقة  \n",
       "1      4   306  للبيع بحطين النموزجي درج صاله\\nالمساحه ٣٠٦ متر...  قبل 4 دقيقة  "
      ]
     },
     "execution_count": 218,
     "metadata": {},
     "output_type": "execute_result"
    }
   ],
   "source": [
    "north.head(2)"
   ]
  },
  {
   "cell_type": "code",
   "execution_count": 219,
   "metadata": {},
   "outputs": [
    {
     "data": {
      "text/plain": [
       "name        object\n",
       "price       object\n",
       "Bedrooms     int64\n",
       "baths        int64\n",
       "space       object\n",
       "details     object\n",
       "time        object\n",
       "dtype: object"
      ]
     },
     "execution_count": 219,
     "metadata": {},
     "output_type": "execute_result"
    }
   ],
   "source": [
    "north.dtypes"
   ]
  },
  {
   "cell_type": "code",
   "execution_count": 220,
   "metadata": {},
   "outputs": [],
   "source": [
    " # price and size are object and should be converted to int64 \n",
    "north['price'] = north['price'].astype('int64')"
   ]
  },
  {
   "cell_type": "code",
   "execution_count": 221,
   "metadata": {},
   "outputs": [],
   "source": [
    "north['space'] = north['space'].astype('int64')"
   ]
  },
  {
   "cell_type": "code",
   "execution_count": 222,
   "metadata": {},
   "outputs": [
    {
     "data": {
      "text/plain": [
       "name        object\n",
       "price        int64\n",
       "Bedrooms     int64\n",
       "baths        int64\n",
       "space        int64\n",
       "details     object\n",
       "time        object\n",
       "dtype: object"
      ]
     },
     "execution_count": 222,
     "metadata": {},
     "output_type": "execute_result"
    }
   ],
   "source": [
    "north.dtypes"
   ]
  },
  {
   "cell_type": "code",
   "execution_count": 223,
   "metadata": {},
   "outputs": [],
   "source": [
    "north['district'] = 'North'"
   ]
  },
  {
   "cell_type": "code",
   "execution_count": 224,
   "metadata": {},
   "outputs": [],
   "source": [
    "south=pd.read_csv('South villas.csv')"
   ]
  },
  {
   "cell_type": "code",
   "execution_count": 225,
   "metadata": {},
   "outputs": [],
   "source": [
    "south=south.replace(regex=[r' ريال'], value='')"
   ]
  },
  {
   "cell_type": "code",
   "execution_count": 226,
   "metadata": {},
   "outputs": [],
   "source": [
    "south=south.replace(regex=[r','], value='')"
   ]
  },
  {
   "cell_type": "code",
   "execution_count": 227,
   "metadata": {},
   "outputs": [],
   "source": [
    "south=south.replace(regex=[r' م²'], value='')"
   ]
  },
  {
   "cell_type": "code",
   "execution_count": 228,
   "metadata": {},
   "outputs": [
    {
     "data": {
      "text/html": [
       "<div>\n",
       "<style scoped>\n",
       "    .dataframe tbody tr th:only-of-type {\n",
       "        vertical-align: middle;\n",
       "    }\n",
       "\n",
       "    .dataframe tbody tr th {\n",
       "        vertical-align: top;\n",
       "    }\n",
       "\n",
       "    .dataframe thead th {\n",
       "        text-align: right;\n",
       "    }\n",
       "</style>\n",
       "<table border=\"1\" class=\"dataframe\">\n",
       "  <thead>\n",
       "    <tr style=\"text-align: right;\">\n",
       "      <th></th>\n",
       "      <th>title</th>\n",
       "      <th>price</th>\n",
       "      <th>beds</th>\n",
       "      <th>baths</th>\n",
       "      <th>size</th>\n",
       "      <th>details</th>\n",
       "      <th>time</th>\n",
       "    </tr>\n",
       "  </thead>\n",
       "  <tbody>\n",
       "    <tr>\n",
       "      <th>0</th>\n",
       "      <td>فيلا للبيع في شارع نهر التاجية ، حي العزيزية ،...</td>\n",
       "      <td>1180000</td>\n",
       "      <td>3</td>\n",
       "      <td>5</td>\n",
       "      <td>390</td>\n",
       "      <td>فيلا للبيع في شارع نهر التاجية ، حي العزيزية ،...</td>\n",
       "      <td>قبل 7 ساعة</td>\n",
       "    </tr>\n",
       "    <tr>\n",
       "      <th>1</th>\n",
       "      <td>فيلا للبيع في شارع ابي الربيع السعدي ، حي العز...</td>\n",
       "      <td>110000</td>\n",
       "      <td>5</td>\n",
       "      <td>5</td>\n",
       "      <td>360</td>\n",
       "      <td>فيلا للبيع في شارع ابي الربيع السعدي ، حي العز...</td>\n",
       "      <td>قبل 51 دقيقة</td>\n",
       "    </tr>\n",
       "  </tbody>\n",
       "</table>\n",
       "</div>"
      ],
      "text/plain": [
       "                                               title    price  beds  baths  \\\n",
       "0  فيلا للبيع في شارع نهر التاجية ، حي العزيزية ،...  1180000     3      5   \n",
       "1  فيلا للبيع في شارع ابي الربيع السعدي ، حي العز...   110000     5      5   \n",
       "\n",
       "  size                                            details          time  \n",
       "0  390  فيلا للبيع في شارع نهر التاجية ، حي العزيزية ،...    قبل 7 ساعة  \n",
       "1  360  فيلا للبيع في شارع ابي الربيع السعدي ، حي العز...  قبل 51 دقيقة  "
      ]
     },
     "execution_count": 228,
     "metadata": {},
     "output_type": "execute_result"
    }
   ],
   "source": [
    "south.head(2)"
   ]
  },
  {
   "cell_type": "code",
   "execution_count": 229,
   "metadata": {},
   "outputs": [],
   "source": [
    " # price and size are object and should be converted to int64 \n",
    "south['price'] = south['price'].astype('int64')"
   ]
  },
  {
   "cell_type": "code",
   "execution_count": 230,
   "metadata": {},
   "outputs": [],
   "source": [
    "south['size'] = south['size'].astype('int64')"
   ]
  },
  {
   "cell_type": "code",
   "execution_count": 231,
   "metadata": {},
   "outputs": [
    {
     "data": {
      "text/plain": [
       "title      object\n",
       "price       int64\n",
       "beds        int64\n",
       "baths       int64\n",
       "size        int64\n",
       "details    object\n",
       "time       object\n",
       "dtype: object"
      ]
     },
     "execution_count": 231,
     "metadata": {},
     "output_type": "execute_result"
    }
   ],
   "source": [
    "south.dtypes"
   ]
  },
  {
   "cell_type": "code",
   "execution_count": 232,
   "metadata": {},
   "outputs": [],
   "source": [
    "south['district'] = 'South'"
   ]
  },
  {
   "cell_type": "code",
   "execution_count": 233,
   "metadata": {},
   "outputs": [],
   "source": [
    "center=pd.read_csv('center-villas.csv')"
   ]
  },
  {
   "cell_type": "code",
   "execution_count": 234,
   "metadata": {},
   "outputs": [],
   "source": [
    "center=center.replace(regex=[r' ريال'], value='')"
   ]
  },
  {
   "cell_type": "code",
   "execution_count": 235,
   "metadata": {},
   "outputs": [],
   "source": [
    "center=center.replace(regex=[r','], value='')"
   ]
  },
  {
   "cell_type": "code",
   "execution_count": 236,
   "metadata": {},
   "outputs": [],
   "source": [
    "center=center.replace(regex=[r' م²'], value='')"
   ]
  },
  {
   "cell_type": "code",
   "execution_count": 237,
   "metadata": {},
   "outputs": [
    {
     "data": {
      "text/html": [
       "<div>\n",
       "<style scoped>\n",
       "    .dataframe tbody tr th:only-of-type {\n",
       "        vertical-align: middle;\n",
       "    }\n",
       "\n",
       "    .dataframe tbody tr th {\n",
       "        vertical-align: top;\n",
       "    }\n",
       "\n",
       "    .dataframe thead th {\n",
       "        text-align: right;\n",
       "    }\n",
       "</style>\n",
       "<table border=\"1\" class=\"dataframe\">\n",
       "  <thead>\n",
       "    <tr style=\"text-align: right;\">\n",
       "      <th></th>\n",
       "      <th>title</th>\n",
       "      <th>price</th>\n",
       "      <th>beds</th>\n",
       "      <th>baths</th>\n",
       "      <th>size</th>\n",
       "      <th>details</th>\n",
       "      <th>time</th>\n",
       "    </tr>\n",
       "  </thead>\n",
       "  <tbody>\n",
       "    <tr>\n",
       "      <th>0</th>\n",
       "      <td>فيلا للبيع في شارع الأمير متعب بن عبدالعزيز ، ...</td>\n",
       "      <td>1150000</td>\n",
       "      <td>5</td>\n",
       "      <td>4</td>\n",
       "      <td>500</td>\n",
       "      <td>فيلا للبيع في شارع الأمير متعب بن عبدالعزيز ، ...</td>\n",
       "      <td>قبل 7 ساعة</td>\n",
       "    </tr>\n",
       "    <tr>\n",
       "      <th>1</th>\n",
       "      <td>فيلا للبيع في طريق النهضة ، حي الربوة ، الرياض...</td>\n",
       "      <td>5000000</td>\n",
       "      <td>4</td>\n",
       "      <td>5</td>\n",
       "      <td>1400</td>\n",
       "      <td>فيلا للبيع في طريق النهضة ، حي الربوة ، الرياض...</td>\n",
       "      <td>قبل ساعة</td>\n",
       "    </tr>\n",
       "  </tbody>\n",
       "</table>\n",
       "</div>"
      ],
      "text/plain": [
       "                                               title    price  beds  baths  \\\n",
       "0  فيلا للبيع في شارع الأمير متعب بن عبدالعزيز ، ...  1150000     5      4   \n",
       "1  فيلا للبيع في طريق النهضة ، حي الربوة ، الرياض...  5000000     4      5   \n",
       "\n",
       "   size                                            details        time  \n",
       "0   500  فيلا للبيع في شارع الأمير متعب بن عبدالعزيز ، ...  قبل 7 ساعة  \n",
       "1  1400  فيلا للبيع في طريق النهضة ، حي الربوة ، الرياض...    قبل ساعة  "
      ]
     },
     "execution_count": 237,
     "metadata": {},
     "output_type": "execute_result"
    }
   ],
   "source": [
    "center.head(2)"
   ]
  },
  {
   "cell_type": "code",
   "execution_count": 238,
   "metadata": {},
   "outputs": [
    {
     "data": {
      "text/plain": [
       "title      object\n",
       "price      object\n",
       "beds        int64\n",
       "baths       int64\n",
       "size       object\n",
       "details    object\n",
       "time       object\n",
       "dtype: object"
      ]
     },
     "execution_count": 238,
     "metadata": {},
     "output_type": "execute_result"
    }
   ],
   "source": [
    "center.dtypes"
   ]
  },
  {
   "cell_type": "code",
   "execution_count": 239,
   "metadata": {},
   "outputs": [],
   "source": [
    "# price and size are object and should be converted to int64 \n",
    "center['price'] = center['price'].astype('int64')"
   ]
  },
  {
   "cell_type": "code",
   "execution_count": 240,
   "metadata": {},
   "outputs": [],
   "source": [
    "center['size'] = center['size'].astype('int64')"
   ]
  },
  {
   "cell_type": "code",
   "execution_count": 241,
   "metadata": {},
   "outputs": [
    {
     "data": {
      "text/plain": [
       "title      object\n",
       "price       int64\n",
       "beds        int64\n",
       "baths       int64\n",
       "size        int64\n",
       "details    object\n",
       "time       object\n",
       "dtype: object"
      ]
     },
     "execution_count": 241,
     "metadata": {},
     "output_type": "execute_result"
    }
   ],
   "source": [
    "center.dtypes"
   ]
  },
  {
   "cell_type": "code",
   "execution_count": 242,
   "metadata": {},
   "outputs": [],
   "source": [
    "center['district'] = 'Center'"
   ]
  },
  {
   "cell_type": "code",
   "execution_count": 243,
   "metadata": {},
   "outputs": [],
   "source": [
    "#rename columns to be concat perfectly \n",
    "west= west.rename(columns={\"name\": \"title\", \"Price\": \"price\",\n",
    "                      \"Bedrooms\":\"beds\",\"baths\":\"baths\",\"space\":\"size\",\n",
    "                      \"details\":\"details\",\"time\":\"time\"})\n",
    "\n",
    "east= east.rename(columns={\"name\": \"title\", \"price\": \"price\",\n",
    "                      \"Bedrooms\":\"beds\",\"baths\":\"baths\",\"space\":\"size\",\n",
    "                      \"details\":\"details\",\"time\":\"time\"})\n",
    "\n",
    "north= north.rename(columns={\"name\": \"title\", \"price\": \"price\",\n",
    "                      \"Bedrooms\":\"beds\",\"baths\":\"baths\",\"space\":\"size\",\n",
    "                      \"details\":\"details\",\"time\":\"time\"})\n",
    "\n",
    "south= south.rename(columns={\"name\": \"title\", \"price\": \"price\",\n",
    "                      \"Bedrooms\":\"beds\",\"baths\":\"baths\",\"space\":\"size\",\n",
    "                      \"details\":\"details\",\"time\":\"time\"})\n",
    "\n",
    "center= center.rename(columns={\"name\": \"title\", \"price\": \"price\",\n",
    "                      \"Bedrooms\":\"beds\",\"baths\":\"baths\",\"space\":\"size\",\n",
    "                      \"details\":\"details\",\"time\":\"time\"})\n"
   ]
  },
  {
   "cell_type": "code",
   "execution_count": 244,
   "metadata": {},
   "outputs": [],
   "source": [
    "#Join all districts of Riyadh \n",
    "esns = [east, west, center, south,north]\n",
    "\n",
    "aqar = pd.concat(esns)"
   ]
  },
  {
   "cell_type": "code",
   "execution_count": 245,
   "metadata": {},
   "outputs": [
    {
     "data": {
      "text/html": [
       "<div>\n",
       "<style scoped>\n",
       "    .dataframe tbody tr th:only-of-type {\n",
       "        vertical-align: middle;\n",
       "    }\n",
       "\n",
       "    .dataframe tbody tr th {\n",
       "        vertical-align: top;\n",
       "    }\n",
       "\n",
       "    .dataframe thead th {\n",
       "        text-align: right;\n",
       "    }\n",
       "</style>\n",
       "<table border=\"1\" class=\"dataframe\">\n",
       "  <thead>\n",
       "    <tr style=\"text-align: right;\">\n",
       "      <th></th>\n",
       "      <th>title</th>\n",
       "      <th>price</th>\n",
       "      <th>beds</th>\n",
       "      <th>baths</th>\n",
       "      <th>size</th>\n",
       "      <th>details</th>\n",
       "      <th>time</th>\n",
       "      <th>district</th>\n",
       "    </tr>\n",
       "  </thead>\n",
       "  <tbody>\n",
       "    <tr>\n",
       "      <th>0</th>\n",
       "      <td>فيلا للبيع في حي القادسية ، الرياض ، الرياض</td>\n",
       "      <td>1400000</td>\n",
       "      <td>7</td>\n",
       "      <td>5</td>\n",
       "      <td>384</td>\n",
       "      <td>فيلا للبيع في حي القادسية ، الرياض ، الرياضقبل...</td>\n",
       "      <td>قبل 52 ثانية</td>\n",
       "      <td>East</td>\n",
       "    </tr>\n",
       "    <tr>\n",
       "      <th>1</th>\n",
       "      <td>فيلا للبيع في الرياض ، حي الرمال ، الرياض</td>\n",
       "      <td>1080000</td>\n",
       "      <td>4</td>\n",
       "      <td>5</td>\n",
       "      <td>435</td>\n",
       "      <td>فيلا للبيع في الرياض ، حي الرمال ، الرياضقبل 5...</td>\n",
       "      <td>قبل 52 ثانية</td>\n",
       "      <td>East</td>\n",
       "    </tr>\n",
       "    <tr>\n",
       "      <th>2</th>\n",
       "      <td>فيلا للبيع في شارع خالد بن الوليد ، حي الاندلس...</td>\n",
       "      <td>1200000</td>\n",
       "      <td>7</td>\n",
       "      <td>5</td>\n",
       "      <td>500</td>\n",
       "      <td>فيلا للبيع في شارع خالد بن الوليد ، حي الاندلس...</td>\n",
       "      <td>قبل ساعة</td>\n",
       "      <td>East</td>\n",
       "    </tr>\n",
       "    <tr>\n",
       "      <th>3</th>\n",
       "      <td>احجز فيلا في مشروع واحة الدمام</td>\n",
       "      <td>698995</td>\n",
       "      <td>4</td>\n",
       "      <td>5</td>\n",
       "      <td>335</td>\n",
       "      <td>احجز فيلا في مشروع واحة الدمامإعلان6989953355 ...</td>\n",
       "      <td>NaN</td>\n",
       "      <td>East</td>\n",
       "    </tr>\n",
       "    <tr>\n",
       "      <th>4</th>\n",
       "      <td>فيلا للبيع في حي القادسية ، الرياض ، الرياض</td>\n",
       "      <td>1450000</td>\n",
       "      <td>4</td>\n",
       "      <td>4</td>\n",
       "      <td>300</td>\n",
       "      <td>فيلا للبيع في حي القادسية ، الرياض ، الرياضقبل...</td>\n",
       "      <td>قبل 3 ساعة</td>\n",
       "      <td>East</td>\n",
       "    </tr>\n",
       "    <tr>\n",
       "      <th>...</th>\n",
       "      <td>...</td>\n",
       "      <td>...</td>\n",
       "      <td>...</td>\n",
       "      <td>...</td>\n",
       "      <td>...</td>\n",
       "      <td>...</td>\n",
       "      <td>...</td>\n",
       "      <td>...</td>\n",
       "    </tr>\n",
       "    <tr>\n",
       "      <th>195</th>\n",
       "      <td>فيلا للبيع في شارع عسفان ، حي النرجس ، الرياض ...</td>\n",
       "      <td>1650000</td>\n",
       "      <td>5</td>\n",
       "      <td>5</td>\n",
       "      <td>240</td>\n",
       "      <td>فيلا للبيع في شارع عسفان ، حي النرجس ، الرياض ...</td>\n",
       "      <td>قبل ساعتين</td>\n",
       "      <td>North</td>\n",
       "    </tr>\n",
       "    <tr>\n",
       "      <th>196</th>\n",
       "      <td>فيلا للبيع في شارع 196 ، حي الملقا ، الرياض ، ...</td>\n",
       "      <td>5500000</td>\n",
       "      <td>5</td>\n",
       "      <td>5</td>\n",
       "      <td>640</td>\n",
       "      <td>فيلا للبيع في شارع 196 ، حي الملقا ، الرياض ، ...</td>\n",
       "      <td>قبل 18 دقيقة</td>\n",
       "      <td>North</td>\n",
       "    </tr>\n",
       "    <tr>\n",
       "      <th>197</th>\n",
       "      <td>فيلا للبيع في الرياض ، حي الملقا ، الرياض</td>\n",
       "      <td>3600000</td>\n",
       "      <td>5</td>\n",
       "      <td>3</td>\n",
       "      <td>504</td>\n",
       "      <td>فيلا للبيع في الرياض ، حي الملقا ، الرياضقبل 7...</td>\n",
       "      <td>قبل 7 ساعة</td>\n",
       "      <td>North</td>\n",
       "    </tr>\n",
       "    <tr>\n",
       "      <th>198</th>\n",
       "      <td>فيلا للبيع في شارع رقم 206 ، حي الملقا ، الريا...</td>\n",
       "      <td>5300000</td>\n",
       "      <td>6</td>\n",
       "      <td>5</td>\n",
       "      <td>720</td>\n",
       "      <td>فيلا للبيع في شارع رقم 206 ، حي الملقا ، الريا...</td>\n",
       "      <td>قبل 24 دقيقة</td>\n",
       "      <td>North</td>\n",
       "    </tr>\n",
       "    <tr>\n",
       "      <th>199</th>\n",
       "      <td>فيلا للبيع في شارع سراج الدين العسقلاني ، حي ا...</td>\n",
       "      <td>4000000</td>\n",
       "      <td>3</td>\n",
       "      <td>4</td>\n",
       "      <td>500</td>\n",
       "      <td>فيلا للبيع في شارع سراج الدين العسقلاني ، حي ا...</td>\n",
       "      <td>قبل 8 ساعة</td>\n",
       "      <td>North</td>\n",
       "    </tr>\n",
       "  </tbody>\n",
       "</table>\n",
       "<p>1000 rows × 8 columns</p>\n",
       "</div>"
      ],
      "text/plain": [
       "                                                 title    price  beds  baths  \\\n",
       "0          فيلا للبيع في حي القادسية ، الرياض ، الرياض  1400000     7      5   \n",
       "1            فيلا للبيع في الرياض ، حي الرمال ، الرياض  1080000     4      5   \n",
       "2    فيلا للبيع في شارع خالد بن الوليد ، حي الاندلس...  1200000     7      5   \n",
       "3                       احجز فيلا في مشروع واحة الدمام   698995     4      5   \n",
       "4          فيلا للبيع في حي القادسية ، الرياض ، الرياض  1450000     4      4   \n",
       "..                                                 ...      ...   ...    ...   \n",
       "195  فيلا للبيع في شارع عسفان ، حي النرجس ، الرياض ...  1650000     5      5   \n",
       "196  فيلا للبيع في شارع 196 ، حي الملقا ، الرياض ، ...  5500000     5      5   \n",
       "197          فيلا للبيع في الرياض ، حي الملقا ، الرياض  3600000     5      3   \n",
       "198  فيلا للبيع في شارع رقم 206 ، حي الملقا ، الريا...  5300000     6      5   \n",
       "199  فيلا للبيع في شارع سراج الدين العسقلاني ، حي ا...  4000000     3      4   \n",
       "\n",
       "     size                                            details          time  \\\n",
       "0     384  فيلا للبيع في حي القادسية ، الرياض ، الرياضقبل...  قبل 52 ثانية   \n",
       "1     435  فيلا للبيع في الرياض ، حي الرمال ، الرياضقبل 5...  قبل 52 ثانية   \n",
       "2     500  فيلا للبيع في شارع خالد بن الوليد ، حي الاندلس...      قبل ساعة   \n",
       "3     335  احجز فيلا في مشروع واحة الدمامإعلان6989953355 ...           NaN   \n",
       "4     300  فيلا للبيع في حي القادسية ، الرياض ، الرياضقبل...    قبل 3 ساعة   \n",
       "..    ...                                                ...           ...   \n",
       "195   240  فيلا للبيع في شارع عسفان ، حي النرجس ، الرياض ...    قبل ساعتين   \n",
       "196   640  فيلا للبيع في شارع 196 ، حي الملقا ، الرياض ، ...  قبل 18 دقيقة   \n",
       "197   504  فيلا للبيع في الرياض ، حي الملقا ، الرياضقبل 7...    قبل 7 ساعة   \n",
       "198   720  فيلا للبيع في شارع رقم 206 ، حي الملقا ، الريا...  قبل 24 دقيقة   \n",
       "199   500  فيلا للبيع في شارع سراج الدين العسقلاني ، حي ا...    قبل 8 ساعة   \n",
       "\n",
       "    district  \n",
       "0       East  \n",
       "1       East  \n",
       "2       East  \n",
       "3       East  \n",
       "4       East  \n",
       "..       ...  \n",
       "195    North  \n",
       "196    North  \n",
       "197    North  \n",
       "198    North  \n",
       "199    North  \n",
       "\n",
       "[1000 rows x 8 columns]"
      ]
     },
     "execution_count": 245,
     "metadata": {},
     "output_type": "execute_result"
    }
   ],
   "source": [
    "aqar"
   ]
  },
  {
   "cell_type": "code",
   "execution_count": null,
   "metadata": {},
   "outputs": [],
   "source": [
    "aqar.drop('details',\n",
    "  axis='columns', inplace=True)\n",
    "\n",
    "aqar.drop('time',\n",
    "  axis='columns', inplace=True)\n",
    "\n",
    "aqar.drop('title',\n",
    "  axis='columns', inplace=True)"
   ]
  },
  {
   "cell_type": "code",
   "execution_count": 286,
   "metadata": {},
   "outputs": [],
   "source": [
    "# save merged districts into one CSV\n",
    "aqar.to_csv(r'aqar.csv', index = False)"
   ]
  },
  {
   "cell_type": "code",
   "execution_count": 3,
   "metadata": {},
   "outputs": [],
   "source": [
    "df=pd.read_csv('aqar.csv')"
   ]
  },
  {
   "cell_type": "code",
   "execution_count": 4,
   "metadata": {},
   "outputs": [
    {
     "data": {
      "text/html": [
       "<div>\n",
       "<style scoped>\n",
       "    .dataframe tbody tr th:only-of-type {\n",
       "        vertical-align: middle;\n",
       "    }\n",
       "\n",
       "    .dataframe tbody tr th {\n",
       "        vertical-align: top;\n",
       "    }\n",
       "\n",
       "    .dataframe thead th {\n",
       "        text-align: right;\n",
       "    }\n",
       "</style>\n",
       "<table border=\"1\" class=\"dataframe\">\n",
       "  <thead>\n",
       "    <tr style=\"text-align: right;\">\n",
       "      <th></th>\n",
       "      <th>price</th>\n",
       "      <th>beds</th>\n",
       "      <th>baths</th>\n",
       "      <th>size</th>\n",
       "      <th>district</th>\n",
       "    </tr>\n",
       "  </thead>\n",
       "  <tbody>\n",
       "    <tr>\n",
       "      <th>0</th>\n",
       "      <td>1400000</td>\n",
       "      <td>7</td>\n",
       "      <td>5</td>\n",
       "      <td>384</td>\n",
       "      <td>East</td>\n",
       "    </tr>\n",
       "    <tr>\n",
       "      <th>1</th>\n",
       "      <td>1080000</td>\n",
       "      <td>4</td>\n",
       "      <td>5</td>\n",
       "      <td>435</td>\n",
       "      <td>East</td>\n",
       "    </tr>\n",
       "    <tr>\n",
       "      <th>2</th>\n",
       "      <td>1200000</td>\n",
       "      <td>7</td>\n",
       "      <td>5</td>\n",
       "      <td>500</td>\n",
       "      <td>East</td>\n",
       "    </tr>\n",
       "    <tr>\n",
       "      <th>3</th>\n",
       "      <td>698995</td>\n",
       "      <td>4</td>\n",
       "      <td>5</td>\n",
       "      <td>335</td>\n",
       "      <td>East</td>\n",
       "    </tr>\n",
       "    <tr>\n",
       "      <th>4</th>\n",
       "      <td>1450000</td>\n",
       "      <td>4</td>\n",
       "      <td>4</td>\n",
       "      <td>300</td>\n",
       "      <td>East</td>\n",
       "    </tr>\n",
       "  </tbody>\n",
       "</table>\n",
       "</div>"
      ],
      "text/plain": [
       "     price  beds  baths  size district\n",
       "0  1400000     7      5   384     East\n",
       "1  1080000     4      5   435     East\n",
       "2  1200000     7      5   500     East\n",
       "3   698995     4      5   335     East\n",
       "4  1450000     4      4   300     East"
      ]
     },
     "execution_count": 4,
     "metadata": {},
     "output_type": "execute_result"
    }
   ],
   "source": [
    "df.head()"
   ]
  },
  {
   "cell_type": "code",
   "execution_count": 37,
   "metadata": {},
   "outputs": [
    {
     "name": "stdout",
     "output_type": "stream",
     "text": [
      "<class 'pandas.core.frame.DataFrame'>\n",
      "RangeIndex: 1000 entries, 0 to 999\n",
      "Data columns (total 5 columns):\n",
      " #   Column    Non-Null Count  Dtype \n",
      "---  ------    --------------  ----- \n",
      " 0   price     1000 non-null   int64 \n",
      " 1   beds      1000 non-null   int64 \n",
      " 2   baths     1000 non-null   int64 \n",
      " 3   size      1000 non-null   int64 \n",
      " 4   district  1000 non-null   object\n",
      "dtypes: int64(4), object(1)\n",
      "memory usage: 39.2+ KB\n"
     ]
    }
   ],
   "source": [
    "# exploring none values \n",
    "df.info()"
   ]
  },
  {
   "cell_type": "code",
   "execution_count": 290,
   "metadata": {},
   "outputs": [
    {
     "data": {
      "text/html": [
       "<div>\n",
       "<style scoped>\n",
       "    .dataframe tbody tr th:only-of-type {\n",
       "        vertical-align: middle;\n",
       "    }\n",
       "\n",
       "    .dataframe tbody tr th {\n",
       "        vertical-align: top;\n",
       "    }\n",
       "\n",
       "    .dataframe thead th {\n",
       "        text-align: right;\n",
       "    }\n",
       "</style>\n",
       "<table border=\"1\" class=\"dataframe\">\n",
       "  <thead>\n",
       "    <tr style=\"text-align: right;\">\n",
       "      <th></th>\n",
       "      <th>price</th>\n",
       "      <th>beds</th>\n",
       "      <th>baths</th>\n",
       "      <th>size</th>\n",
       "    </tr>\n",
       "  </thead>\n",
       "  <tbody>\n",
       "    <tr>\n",
       "      <th>count</th>\n",
       "      <td>1.000000e+03</td>\n",
       "      <td>1000.000000</td>\n",
       "      <td>1000.000000</td>\n",
       "      <td>1000.000000</td>\n",
       "    </tr>\n",
       "    <tr>\n",
       "      <th>mean</th>\n",
       "      <td>1.858675e+06</td>\n",
       "      <td>4.695000</td>\n",
       "      <td>4.521000</td>\n",
       "      <td>466.033000</td>\n",
       "    </tr>\n",
       "    <tr>\n",
       "      <th>std</th>\n",
       "      <td>1.976677e+06</td>\n",
       "      <td>1.121264</td>\n",
       "      <td>0.842775</td>\n",
       "      <td>370.380082</td>\n",
       "    </tr>\n",
       "    <tr>\n",
       "      <th>min</th>\n",
       "      <td>1.100000e+05</td>\n",
       "      <td>1.000000</td>\n",
       "      <td>1.000000</td>\n",
       "      <td>94.000000</td>\n",
       "    </tr>\n",
       "    <tr>\n",
       "      <th>25%</th>\n",
       "      <td>9.500000e+05</td>\n",
       "      <td>4.000000</td>\n",
       "      <td>4.000000</td>\n",
       "      <td>300.000000</td>\n",
       "    </tr>\n",
       "    <tr>\n",
       "      <th>50%</th>\n",
       "      <td>1.200000e+06</td>\n",
       "      <td>5.000000</td>\n",
       "      <td>5.000000</td>\n",
       "      <td>365.000000</td>\n",
       "    </tr>\n",
       "    <tr>\n",
       "      <th>75%</th>\n",
       "      <td>2.000000e+06</td>\n",
       "      <td>5.000000</td>\n",
       "      <td>5.000000</td>\n",
       "      <td>500.000000</td>\n",
       "    </tr>\n",
       "    <tr>\n",
       "      <th>max</th>\n",
       "      <td>3.000000e+07</td>\n",
       "      <td>7.000000</td>\n",
       "      <td>5.000000</td>\n",
       "      <td>4550.000000</td>\n",
       "    </tr>\n",
       "  </tbody>\n",
       "</table>\n",
       "</div>"
      ],
      "text/plain": [
       "              price         beds        baths         size\n",
       "count  1.000000e+03  1000.000000  1000.000000  1000.000000\n",
       "mean   1.858675e+06     4.695000     4.521000   466.033000\n",
       "std    1.976677e+06     1.121264     0.842775   370.380082\n",
       "min    1.100000e+05     1.000000     1.000000    94.000000\n",
       "25%    9.500000e+05     4.000000     4.000000   300.000000\n",
       "50%    1.200000e+06     5.000000     5.000000   365.000000\n",
       "75%    2.000000e+06     5.000000     5.000000   500.000000\n",
       "max    3.000000e+07     7.000000     5.000000  4550.000000"
      ]
     },
     "execution_count": 290,
     "metadata": {},
     "output_type": "execute_result"
    }
   ],
   "source": [
    "df.describe()"
   ]
  },
  {
   "cell_type": "code",
   "execution_count": 291,
   "metadata": {},
   "outputs": [
    {
     "data": {
      "text/html": [
       "<div>\n",
       "<style scoped>\n",
       "    .dataframe tbody tr th:only-of-type {\n",
       "        vertical-align: middle;\n",
       "    }\n",
       "\n",
       "    .dataframe tbody tr th {\n",
       "        vertical-align: top;\n",
       "    }\n",
       "\n",
       "    .dataframe thead th {\n",
       "        text-align: right;\n",
       "    }\n",
       "</style>\n",
       "<table border=\"1\" class=\"dataframe\">\n",
       "  <thead>\n",
       "    <tr style=\"text-align: right;\">\n",
       "      <th></th>\n",
       "      <th></th>\n",
       "      <th>price</th>\n",
       "      <th>baths</th>\n",
       "      <th>size</th>\n",
       "    </tr>\n",
       "    <tr>\n",
       "      <th>beds</th>\n",
       "      <th>district</th>\n",
       "      <th></th>\n",
       "      <th></th>\n",
       "      <th></th>\n",
       "    </tr>\n",
       "  </thead>\n",
       "  <tbody>\n",
       "    <tr>\n",
       "      <th rowspan=\"5\" valign=\"top\">1</th>\n",
       "      <th>Center</th>\n",
       "      <td>1.653689e+06</td>\n",
       "      <td>1.500000</td>\n",
       "      <td>594.800000</td>\n",
       "    </tr>\n",
       "    <tr>\n",
       "      <th>East</th>\n",
       "      <td>1.725000e+06</td>\n",
       "      <td>5.000000</td>\n",
       "      <td>529.000000</td>\n",
       "    </tr>\n",
       "    <tr>\n",
       "      <th>North</th>\n",
       "      <td>3.250000e+06</td>\n",
       "      <td>5.000000</td>\n",
       "      <td>561.000000</td>\n",
       "    </tr>\n",
       "    <tr>\n",
       "      <th>South</th>\n",
       "      <td>9.700000e+05</td>\n",
       "      <td>4.000000</td>\n",
       "      <td>300.000000</td>\n",
       "    </tr>\n",
       "    <tr>\n",
       "      <th>west</th>\n",
       "      <td>6.000000e+05</td>\n",
       "      <td>3.000000</td>\n",
       "      <td>300.000000</td>\n",
       "    </tr>\n",
       "    <tr>\n",
       "      <th rowspan=\"3\" valign=\"top\">2</th>\n",
       "      <th>Center</th>\n",
       "      <td>9.833333e+05</td>\n",
       "      <td>3.000000</td>\n",
       "      <td>327.333333</td>\n",
       "    </tr>\n",
       "    <tr>\n",
       "      <th>East</th>\n",
       "      <td>1.675000e+06</td>\n",
       "      <td>1.500000</td>\n",
       "      <td>575.000000</td>\n",
       "    </tr>\n",
       "    <tr>\n",
       "      <th>North</th>\n",
       "      <td>2.200000e+06</td>\n",
       "      <td>4.000000</td>\n",
       "      <td>306.000000</td>\n",
       "    </tr>\n",
       "    <tr>\n",
       "      <th rowspan=\"5\" valign=\"top\">3</th>\n",
       "      <th>Center</th>\n",
       "      <td>1.759375e+06</td>\n",
       "      <td>3.375000</td>\n",
       "      <td>657.125000</td>\n",
       "    </tr>\n",
       "    <tr>\n",
       "      <th>East</th>\n",
       "      <td>1.294474e+06</td>\n",
       "      <td>3.684211</td>\n",
       "      <td>397.842105</td>\n",
       "    </tr>\n",
       "    <tr>\n",
       "      <th>North</th>\n",
       "      <td>2.373333e+06</td>\n",
       "      <td>3.933333</td>\n",
       "      <td>414.733333</td>\n",
       "    </tr>\n",
       "    <tr>\n",
       "      <th>South</th>\n",
       "      <td>8.955882e+05</td>\n",
       "      <td>4.500000</td>\n",
       "      <td>378.676471</td>\n",
       "    </tr>\n",
       "    <tr>\n",
       "      <th>west</th>\n",
       "      <td>1.008929e+06</td>\n",
       "      <td>4.571429</td>\n",
       "      <td>375.000000</td>\n",
       "    </tr>\n",
       "    <tr>\n",
       "      <th rowspan=\"5\" valign=\"top\">4</th>\n",
       "      <th>Center</th>\n",
       "      <td>1.326768e+06</td>\n",
       "      <td>3.894737</td>\n",
       "      <td>440.789474</td>\n",
       "    </tr>\n",
       "    <tr>\n",
       "      <th>East</th>\n",
       "      <td>1.331131e+06</td>\n",
       "      <td>4.393443</td>\n",
       "      <td>349.491803</td>\n",
       "    </tr>\n",
       "    <tr>\n",
       "      <th>North</th>\n",
       "      <td>2.443532e+06</td>\n",
       "      <td>4.177419</td>\n",
       "      <td>391.854839</td>\n",
       "    </tr>\n",
       "    <tr>\n",
       "      <th>South</th>\n",
       "      <td>1.001341e+06</td>\n",
       "      <td>4.295455</td>\n",
       "      <td>344.545455</td>\n",
       "    </tr>\n",
       "    <tr>\n",
       "      <th>west</th>\n",
       "      <td>1.050422e+06</td>\n",
       "      <td>4.333333</td>\n",
       "      <td>296.866667</td>\n",
       "    </tr>\n",
       "    <tr>\n",
       "      <th rowspan=\"5\" valign=\"top\">5</th>\n",
       "      <th>Center</th>\n",
       "      <td>1.980424e+06</td>\n",
       "      <td>4.406593</td>\n",
       "      <td>640.538462</td>\n",
       "    </tr>\n",
       "    <tr>\n",
       "      <th>East</th>\n",
       "      <td>1.645913e+06</td>\n",
       "      <td>4.855769</td>\n",
       "      <td>440.365385</td>\n",
       "    </tr>\n",
       "    <tr>\n",
       "      <th>North</th>\n",
       "      <td>4.061225e+06</td>\n",
       "      <td>4.656863</td>\n",
       "      <td>606.970588</td>\n",
       "    </tr>\n",
       "    <tr>\n",
       "      <th>South</th>\n",
       "      <td>1.006085e+06</td>\n",
       "      <td>4.773585</td>\n",
       "      <td>353.943396</td>\n",
       "    </tr>\n",
       "    <tr>\n",
       "      <th>west</th>\n",
       "      <td>1.230335e+06</td>\n",
       "      <td>4.937500</td>\n",
       "      <td>349.794643</td>\n",
       "    </tr>\n",
       "    <tr>\n",
       "      <th rowspan=\"5\" valign=\"top\">6</th>\n",
       "      <th>Center</th>\n",
       "      <td>1.707692e+06</td>\n",
       "      <td>4.384615</td>\n",
       "      <td>623.923077</td>\n",
       "    </tr>\n",
       "    <tr>\n",
       "      <th>East</th>\n",
       "      <td>1.245000e+06</td>\n",
       "      <td>4.500000</td>\n",
       "      <td>293.500000</td>\n",
       "    </tr>\n",
       "    <tr>\n",
       "      <th>North</th>\n",
       "      <td>5.750000e+06</td>\n",
       "      <td>5.000000</td>\n",
       "      <td>859.111111</td>\n",
       "    </tr>\n",
       "    <tr>\n",
       "      <th>South</th>\n",
       "      <td>1.065000e+06</td>\n",
       "      <td>4.375000</td>\n",
       "      <td>367.000000</td>\n",
       "    </tr>\n",
       "    <tr>\n",
       "      <th>west</th>\n",
       "      <td>1.490000e+06</td>\n",
       "      <td>4.625000</td>\n",
       "      <td>416.875000</td>\n",
       "    </tr>\n",
       "    <tr>\n",
       "      <th rowspan=\"5\" valign=\"top\">7</th>\n",
       "      <th>Center</th>\n",
       "      <td>2.473254e+06</td>\n",
       "      <td>4.714286</td>\n",
       "      <td>785.160714</td>\n",
       "    </tr>\n",
       "    <tr>\n",
       "      <th>East</th>\n",
       "      <td>3.760000e+06</td>\n",
       "      <td>4.500000</td>\n",
       "      <td>1044.300000</td>\n",
       "    </tr>\n",
       "    <tr>\n",
       "      <th>North</th>\n",
       "      <td>4.650000e+06</td>\n",
       "      <td>4.888889</td>\n",
       "      <td>597.444444</td>\n",
       "    </tr>\n",
       "    <tr>\n",
       "      <th>South</th>\n",
       "      <td>8.085714e+05</td>\n",
       "      <td>5.000000</td>\n",
       "      <td>321.571429</td>\n",
       "    </tr>\n",
       "    <tr>\n",
       "      <th>west</th>\n",
       "      <td>1.556667e+06</td>\n",
       "      <td>5.000000</td>\n",
       "      <td>418.833333</td>\n",
       "    </tr>\n",
       "  </tbody>\n",
       "</table>\n",
       "</div>"
      ],
      "text/plain": [
       "                      price     baths         size\n",
       "beds district                                     \n",
       "1    Center    1.653689e+06  1.500000   594.800000\n",
       "     East      1.725000e+06  5.000000   529.000000\n",
       "     North     3.250000e+06  5.000000   561.000000\n",
       "     South     9.700000e+05  4.000000   300.000000\n",
       "     west      6.000000e+05  3.000000   300.000000\n",
       "2    Center    9.833333e+05  3.000000   327.333333\n",
       "     East      1.675000e+06  1.500000   575.000000\n",
       "     North     2.200000e+06  4.000000   306.000000\n",
       "3    Center    1.759375e+06  3.375000   657.125000\n",
       "     East      1.294474e+06  3.684211   397.842105\n",
       "     North     2.373333e+06  3.933333   414.733333\n",
       "     South     8.955882e+05  4.500000   378.676471\n",
       "     west      1.008929e+06  4.571429   375.000000\n",
       "4    Center    1.326768e+06  3.894737   440.789474\n",
       "     East      1.331131e+06  4.393443   349.491803\n",
       "     North     2.443532e+06  4.177419   391.854839\n",
       "     South     1.001341e+06  4.295455   344.545455\n",
       "     west      1.050422e+06  4.333333   296.866667\n",
       "5    Center    1.980424e+06  4.406593   640.538462\n",
       "     East      1.645913e+06  4.855769   440.365385\n",
       "     North     4.061225e+06  4.656863   606.970588\n",
       "     South     1.006085e+06  4.773585   353.943396\n",
       "     west      1.230335e+06  4.937500   349.794643\n",
       "6    Center    1.707692e+06  4.384615   623.923077\n",
       "     East      1.245000e+06  4.500000   293.500000\n",
       "     North     5.750000e+06  5.000000   859.111111\n",
       "     South     1.065000e+06  4.375000   367.000000\n",
       "     west      1.490000e+06  4.625000   416.875000\n",
       "7    Center    2.473254e+06  4.714286   785.160714\n",
       "     East      3.760000e+06  4.500000  1044.300000\n",
       "     North     4.650000e+06  4.888889   597.444444\n",
       "     South     8.085714e+05  5.000000   321.571429\n",
       "     west      1.556667e+06  5.000000   418.833333"
      ]
     },
     "execution_count": 291,
     "metadata": {},
     "output_type": "execute_result"
    }
   ],
   "source": [
    "#avrege bedrooms numbers \n",
    "df.groupby(['beds','district']).mean()"
   ]
  },
  {
   "cell_type": "code",
   "execution_count": 292,
   "metadata": {},
   "outputs": [
    {
     "data": {
      "text/plain": [
       "<AxesSubplot:>"
      ]
     },
     "execution_count": 292,
     "metadata": {},
     "output_type": "execute_result"
    },
    {
     "data": {
      "image/png": "[encoded data removed]",
      "text/plain": [
       "<Figure size 432x288 with 2 Axes>"
      ]
     },
     "metadata": {
      "image/png": {
       "height": 262,
       "width": 367
      },
      "needs_background": "light"
     },
     "output_type": "display_data"
    }
   ],
   "source": [
    "sns.heatmap(df.corr(), annot=True)"
   ]
  },
  {
   "cell_type": "code",
   "execution_count": 251,
   "metadata": {},
   "outputs": [],
   "source": [
    "# price and size are positively correlated "
   ]
  },
  {
   "cell_type": "code",
   "execution_count": 293,
   "metadata": {},
   "outputs": [
    {
     "data": {
      "text/plain": [
       "<seaborn.axisgrid.PairGrid at 0x7ffe087d0670>"
      ]
     },
     "execution_count": 293,
     "metadata": {},
     "output_type": "execute_result"
    },
    {
     "data": {
      "image/png": "[encoded data removed]",
      "text/plain": [
       "<Figure size 720x720 with 20 Axes>"
      ]
     },
     "metadata": {
      "image/png": {
       "height": 742,
       "width": 735
      },
      "needs_background": "light"
     },
     "output_type": "display_data"
    }
   ],
   "source": [
    "sns.pairplot(df)"
   ]
  },
  {
   "cell_type": "code",
   "execution_count": 4,
   "metadata": {},
   "outputs": [],
   "source": [
    "X = pd.get_dummies(df, drop_first=True)\n",
    "y = X.price"
   ]
  },
  {
   "cell_type": "code",
   "execution_count": 5,
   "metadata": {},
   "outputs": [],
   "source": [
    "X= X.drop('price',axis=True)"
   ]
  },
  {
   "cell_type": "code",
   "execution_count": 6,
   "metadata": {},
   "outputs": [],
   "source": [
    "# Regularization \n",
    "from sklearn.preprocessing import StandardScaler\n",
    "ss = StandardScaler()\n",
    "X = ss.fit_transform(X)\n",
    "\n",
    "\n",
    "#Split into train and test \n",
    "from sklearn.model_selection import train_test_split\n",
    "X_train, X_test, y_train, y_test = train_test_split(X, y, test_size = 0.2,random_state=42) \n",
    "# 80% training and 20% test"
   ]
  },
  {
   "cell_type": "code",
   "execution_count": 8,
   "metadata": {},
   "outputs": [
    {
     "name": "stdout",
     "output_type": "stream",
     "text": [
      "Train data shape: (800, 7)\n",
      "Test data shape: (200, 7)\n",
      "Train target shape: (800,)\n",
      "Test target shape: (200,)\n"
     ]
    }
   ],
   "source": [
    "print (\"Train data shape:\", X_train.shape)\n",
    "print (\"Test data shape:\", X_test.shape)\n",
    "print (\"Train target shape:\", y_train.shape)\n",
    "print (\"Test target shape:\", y_test.shape)"
   ]
  },
  {
   "cell_type": "code",
   "execution_count": 7,
   "metadata": {},
   "outputs": [],
   "source": [
    "from sklearn import metrics\n",
    "from sklearn.model_selection import cross_val_score\n",
    "\n",
    "def cross_val(model):\n",
    "    pred = cross_val_score(model, X, y, cv=5)\n",
    "    return pred.mean()\n",
    "\n",
    "def print_evaluate(true, predicted):  \n",
    "    mae = metrics.mean_absolute_error(true, predicted)\n",
    "    mse = metrics.mean_squared_error(true, predicted)\n",
    "    rmse = np.sqrt(metrics.mean_squared_error(true, predicted))\n",
    "    r2_square = metrics.r2_score(true, predicted)\n",
    "    print('MAE:', mae)\n",
    "    print('MSE:', mse)\n",
    "    print('RMSE:', rmse)\n",
    "    print('R2 Square', r2_square)\n",
    "    \n",
    "def evaluate(true, predicted):\n",
    "    mae = metrics.mean_absolute_error(true, predicted)\n",
    "    mse = metrics.mean_squared_error(true, predicted)\n",
    "    rmse = np.sqrt(metrics.mean_squared_error(true, predicted))\n",
    "    r2_square = metrics.r2_score(true, predicted)\n",
    "    return mae, mse, rmse, r2_square"
   ]
  },
  {
   "cell_type": "code",
   "execution_count": 158,
   "metadata": {},
   "outputs": [
    {
     "data": {
      "text/plain": [
       "LinearRegression(normalize=True)"
      ]
     },
     "execution_count": 158,
     "metadata": {},
     "output_type": "execute_result"
    }
   ],
   "source": [
    "#fitting LinearRegression\n",
    "from sklearn.linear_model import LinearRegression\n",
    "\n",
    "lin_reg = LinearRegression(normalize=True)\n",
    "lin_reg.fit(X_train,y_train)"
   ]
  },
  {
   "cell_type": "code",
   "execution_count": 159,
   "metadata": {},
   "outputs": [],
   "source": [
    "pred = lin_reg.predict(X_test)"
   ]
  },
  {
   "cell_type": "code",
   "execution_count": 160,
   "metadata": {},
   "outputs": [
    {
     "data": {
      "text/plain": [
       "<matplotlib.collections.PathCollection at 0x7fa79fd9a070>"
      ]
     },
     "execution_count": 160,
     "metadata": {},
     "output_type": "execute_result"
    },
    {
     "data": {
      "image/png": "[encoded data removed]",
      "text/plain": [
       "<Figure size 432x288 with 1 Axes>"
      ]
     },
     "metadata": {
      "image/png": {
       "height": 290,
       "width": 381
      },
      "needs_background": "light"
     },
     "output_type": "display_data"
    }
   ],
   "source": [
    "plt.scatter(y_test, pred)"
   ]
  },
  {
   "cell_type": "code",
   "execution_count": 161,
   "metadata": {},
   "outputs": [
    {
     "name": "stdout",
     "output_type": "stream",
     "text": [
      "Train set evaluation:\n",
      "_____________________________________\n",
      "MAE: 519120.31153281743\n",
      "MSE: 1342423432511.2615\n",
      "RMSE: 1158629.9808442993\n",
      "R2 Square 0.6562685844487458\n",
      "====================================\n",
      "Test set evaluation:\n",
      "_____________________________________\n",
      "MAE: 603184.059423362\n",
      "MSE: 1057048833873.8387\n",
      "RMSE: 1028128.8021808546\n",
      "R2 Square 0.726865682595399\n"
     ]
    }
   ],
   "source": [
    "test_pred = lin_reg.predict(X_test)\n",
    "train_pred = lin_reg.predict(X_train)\n",
    "\n",
    "\n",
    "print('Train set evaluation:\\n_____________________________________')\n",
    "print_evaluate(y_train, train_pred)\n",
    "print('====================================')\n",
    "print('Test set evaluation:\\n_____________________________________')\n",
    "print_evaluate(y_test, test_pred)\n",
    "\n"
   ]
  },
  {
   "cell_type": "code",
   "execution_count": 162,
   "metadata": {},
   "outputs": [
    {
     "data": {
      "image/png": "[encoded data removed]",
      "text/plain": [
       "<Figure size 432x288 with 1 Axes>"
      ]
     },
     "metadata": {
      "image/png": {
       "height": 292,
       "width": 381
      },
      "needs_background": "light"
     },
     "output_type": "display_data"
    }
   ],
   "source": [
    "#Residual\n",
    "sns.distplot((y_test - pred), bins=50);"
   ]
  },
  {
   "cell_type": "code",
   "execution_count": 163,
   "metadata": {},
   "outputs": [
    {
     "data": {
      "text/html": [
       "<div>\n",
       "<style scoped>\n",
       "    .dataframe tbody tr th:only-of-type {\n",
       "        vertical-align: middle;\n",
       "    }\n",
       "\n",
       "    .dataframe tbody tr th {\n",
       "        vertical-align: top;\n",
       "    }\n",
       "\n",
       "    .dataframe thead th {\n",
       "        text-align: right;\n",
       "    }\n",
       "</style>\n",
       "<table border=\"1\" class=\"dataframe\">\n",
       "  <thead>\n",
       "    <tr style=\"text-align: right;\">\n",
       "      <th></th>\n",
       "      <th>Model</th>\n",
       "      <th>MAE</th>\n",
       "      <th>MSE</th>\n",
       "      <th>RMSE</th>\n",
       "      <th>R2 Square</th>\n",
       "      <th>Cross Validation</th>\n",
       "    </tr>\n",
       "  </thead>\n",
       "  <tbody>\n",
       "    <tr>\n",
       "      <th>0</th>\n",
       "      <td>Linear Regression</td>\n",
       "      <td>603184.059423</td>\n",
       "      <td>1.057049e+12</td>\n",
       "      <td>1.028129e+06</td>\n",
       "      <td>0.726866</td>\n",
       "      <td>0.202569</td>\n",
       "    </tr>\n",
       "  </tbody>\n",
       "</table>\n",
       "</div>"
      ],
      "text/plain": [
       "               Model            MAE           MSE          RMSE  R2 Square  \\\n",
       "0  Linear Regression  603184.059423  1.057049e+12  1.028129e+06   0.726866   \n",
       "\n",
       "   Cross Validation  \n",
       "0          0.202569  "
      ]
     },
     "execution_count": 163,
     "metadata": {},
     "output_type": "execute_result"
    }
   ],
   "source": [
    "results_df = pd.DataFrame(data=[[\"Linear Regression\", *evaluate(y_test, test_pred) , cross_val(LinearRegression())]], \n",
    "                          columns=['Model', 'MAE', 'MSE', 'RMSE', 'R2 Square', \"Cross Validation\"])\n",
    "results_df"
   ]
  },
  {
   "cell_type": "code",
   "execution_count": 164,
   "metadata": {},
   "outputs": [
    {
     "name": "stdout",
     "output_type": "stream",
     "text": [
      "Train set evaluation:\n",
      "_____________________________________\n",
      "MAE: 594506.5017540499\n",
      "MSE: 2689222008933.69\n",
      "RMSE: 1639884.7547720205\n",
      "R2 Square 0.31141690060255245\n",
      "====================================\n",
      "Test set evaluation:\n",
      "_____________________________________\n",
      "MAE: 725362.6433507059\n",
      "MSE: 2374562016251.518\n",
      "RMSE: 1540961.3934980715\n",
      "R2 Square 0.38642912734043033\n"
     ]
    }
   ],
   "source": [
    "#fitting Robust Regression\n",
    "from sklearn.linear_model import RANSACRegressor\n",
    "\n",
    "model = RANSACRegressor(base_estimator=LinearRegression(), max_trials=100)\n",
    "model.fit(X_train, y_train)\n",
    "\n",
    "test_pred = model.predict(X_test)\n",
    "train_pred = model.predict(X_train)\n",
    "\n",
    "\n",
    "print('Train set evaluation:\\n_____________________________________')\n",
    "print_evaluate(y_train, train_pred)\n",
    "print('====================================')\n",
    "print('Test set evaluation:\\n_____________________________________')\n",
    "print_evaluate(y_test, test_pred)\n"
   ]
  },
  {
   "cell_type": "code",
   "execution_count": 165,
   "metadata": {},
   "outputs": [
    {
     "data": {
      "text/html": [
       "<div>\n",
       "<style scoped>\n",
       "    .dataframe tbody tr th:only-of-type {\n",
       "        vertical-align: middle;\n",
       "    }\n",
       "\n",
       "    .dataframe tbody tr th {\n",
       "        vertical-align: top;\n",
       "    }\n",
       "\n",
       "    .dataframe thead th {\n",
       "        text-align: right;\n",
       "    }\n",
       "</style>\n",
       "<table border=\"1\" class=\"dataframe\">\n",
       "  <thead>\n",
       "    <tr style=\"text-align: right;\">\n",
       "      <th></th>\n",
       "      <th>Model</th>\n",
       "      <th>MAE</th>\n",
       "      <th>MSE</th>\n",
       "      <th>RMSE</th>\n",
       "      <th>R2 Square</th>\n",
       "      <th>Cross Validation</th>\n",
       "    </tr>\n",
       "  </thead>\n",
       "  <tbody>\n",
       "    <tr>\n",
       "      <th>0</th>\n",
       "      <td>Linear Regression</td>\n",
       "      <td>603184.059423</td>\n",
       "      <td>1.057049e+12</td>\n",
       "      <td>1.028129e+06</td>\n",
       "      <td>0.726866</td>\n",
       "      <td>0.202569</td>\n",
       "    </tr>\n",
       "    <tr>\n",
       "      <th>1</th>\n",
       "      <td>Robust Regression</td>\n",
       "      <td>725362.643351</td>\n",
       "      <td>2.374562e+12</td>\n",
       "      <td>1.540961e+06</td>\n",
       "      <td>0.386429</td>\n",
       "      <td>0.319754</td>\n",
       "    </tr>\n",
       "  </tbody>\n",
       "</table>\n",
       "</div>"
      ],
      "text/plain": [
       "               Model            MAE           MSE          RMSE  R2 Square  \\\n",
       "0  Linear Regression  603184.059423  1.057049e+12  1.028129e+06   0.726866   \n",
       "1  Robust Regression  725362.643351  2.374562e+12  1.540961e+06   0.386429   \n",
       "\n",
       "   Cross Validation  \n",
       "0          0.202569  \n",
       "1          0.319754  "
      ]
     },
     "execution_count": 165,
     "metadata": {},
     "output_type": "execute_result"
    }
   ],
   "source": [
    "# append result to results_df\n",
    "results_df_2 = pd.DataFrame(data=[[\"Robust Regression\", *evaluate(y_test, test_pred) , cross_val(RANSACRegressor())]], \n",
    "                            columns=['Model', 'MAE', 'MSE', 'RMSE', 'R2 Square', \"Cross Validation\"])\n",
    "results_df = results_df.append(results_df_2, ignore_index=True)\n",
    "results_df"
   ]
  },
  {
   "cell_type": "markdown",
   "metadata": {},
   "source": [
    "# This is the model we choose"
   ]
  },
  {
   "cell_type": "code",
   "execution_count": 8,
   "metadata": {},
   "outputs": [
    {
     "name": "stdout",
     "output_type": "stream",
     "text": [
      "Train set evaluation:\n",
      "_____________________________________\n",
      "MAE: 505454.3277043109\n",
      "MSE: 1388367285057.3374\n",
      "RMSE: 1178289.98343249\n",
      "R2 Square 0.6445045276771815\n",
      "====================================\n",
      "Test set evaluation:\n",
      "_____________________________________\n",
      "MAE: 578932.3796657212\n",
      "MSE: 1011358868776.3838\n",
      "RMSE: 1005663.3973534006\n",
      "R2 Square 0.7386716626307762\n"
     ]
    }
   ],
   "source": [
    "#Ridge Regression\n",
    "from sklearn.linear_model import Ridge\n",
    "\n",
    "model = Ridge(alpha=100, solver='cholesky', tol=0.0001, random_state=42)\n",
    "model.fit(X_train, y_train)\n",
    "pred = model.predict(X_test)\n",
    "\n",
    "test_pred = model.predict(X_test)\n",
    "train_pred = model.predict(X_train)\n",
    "\n",
    "\n",
    "print('Train set evaluation:\\n_____________________________________')\n",
    "print_evaluate(y_train, train_pred)\n",
    "print('====================================')\n",
    "print('Test set evaluation:\\n_____________________________________')\n",
    "print_evaluate(y_test, test_pred)\n"
   ]
  },
  {
   "cell_type": "code",
   "execution_count": 167,
   "metadata": {},
   "outputs": [
    {
     "data": {
      "text/html": [
       "<div>\n",
       "<style scoped>\n",
       "    .dataframe tbody tr th:only-of-type {\n",
       "        vertical-align: middle;\n",
       "    }\n",
       "\n",
       "    .dataframe tbody tr th {\n",
       "        vertical-align: top;\n",
       "    }\n",
       "\n",
       "    .dataframe thead th {\n",
       "        text-align: right;\n",
       "    }\n",
       "</style>\n",
       "<table border=\"1\" class=\"dataframe\">\n",
       "  <thead>\n",
       "    <tr style=\"text-align: right;\">\n",
       "      <th></th>\n",
       "      <th>Model</th>\n",
       "      <th>MAE</th>\n",
       "      <th>MSE</th>\n",
       "      <th>RMSE</th>\n",
       "      <th>R2 Square</th>\n",
       "      <th>Cross Validation</th>\n",
       "    </tr>\n",
       "  </thead>\n",
       "  <tbody>\n",
       "    <tr>\n",
       "      <th>0</th>\n",
       "      <td>Linear Regression</td>\n",
       "      <td>603184.059423</td>\n",
       "      <td>1.057049e+12</td>\n",
       "      <td>1.028129e+06</td>\n",
       "      <td>0.726866</td>\n",
       "      <td>0.202569</td>\n",
       "    </tr>\n",
       "    <tr>\n",
       "      <th>1</th>\n",
       "      <td>Robust Regression</td>\n",
       "      <td>725362.643351</td>\n",
       "      <td>2.374562e+12</td>\n",
       "      <td>1.540961e+06</td>\n",
       "      <td>0.386429</td>\n",
       "      <td>0.319754</td>\n",
       "    </tr>\n",
       "    <tr>\n",
       "      <th>2</th>\n",
       "      <td>Ridge Regression</td>\n",
       "      <td>578932.379666</td>\n",
       "      <td>1.011359e+12</td>\n",
       "      <td>1.005663e+06</td>\n",
       "      <td>0.738672</td>\n",
       "      <td>0.207540</td>\n",
       "    </tr>\n",
       "  </tbody>\n",
       "</table>\n",
       "</div>"
      ],
      "text/plain": [
       "               Model            MAE           MSE          RMSE  R2 Square  \\\n",
       "0  Linear Regression  603184.059423  1.057049e+12  1.028129e+06   0.726866   \n",
       "1  Robust Regression  725362.643351  2.374562e+12  1.540961e+06   0.386429   \n",
       "2   Ridge Regression  578932.379666  1.011359e+12  1.005663e+06   0.738672   \n",
       "\n",
       "   Cross Validation  \n",
       "0          0.202569  \n",
       "1          0.319754  \n",
       "2          0.207540  "
      ]
     },
     "execution_count": 167,
     "metadata": {},
     "output_type": "execute_result"
    }
   ],
   "source": [
    "results_df_2 = pd.DataFrame(data=[[\"Ridge Regression\", *evaluate(y_test, test_pred) , cross_val(Ridge())]], \n",
    "                            columns=['Model', 'MAE', 'MSE', 'RMSE', 'R2 Square', \"Cross Validation\"])\n",
    "results_df = results_df.append(results_df_2, ignore_index=True)\n",
    "results_df"
   ]
  },
  {
   "cell_type": "code",
   "execution_count": 168,
   "metadata": {},
   "outputs": [
    {
     "name": "stdout",
     "output_type": "stream",
     "text": [
      "Train set evaluation:\n",
      "_____________________________________\n",
      "MAE: 519120.27947853896\n",
      "MSE: 1342423432511.5073\n",
      "RMSE: 1158629.9808444055\n",
      "R2 Square 0.6562685844486829\n",
      "====================================\n",
      "Test set evaluation:\n",
      "_____________________________________\n",
      "MAE: 603184.0684296611\n",
      "MSE: 1057048726761.8822\n",
      "RMSE: 1028128.7500901248\n",
      "R2 Square 0.726865710272409\n"
     ]
    }
   ],
   "source": [
    "#LASSO\n",
    "from sklearn.linear_model import Lasso\n",
    "\n",
    "model = Lasso(alpha=0.1, \n",
    "              precompute=True, \n",
    "              positive=True, \n",
    "              selection='random',\n",
    "              random_state=42)\n",
    "model.fit(X_train, y_train)\n",
    "\n",
    "test_pred = model.predict(X_test)\n",
    "train_pred = model.predict(X_train)\n",
    "\n",
    "print('Train set evaluation:\\n_____________________________________')\n",
    "print_evaluate(y_train, train_pred)\n",
    "print('====================================')\n",
    "print('Test set evaluation:\\n_____________________________________')\n",
    "print_evaluate(y_test, test_pred)\n",
    "\n"
   ]
  },
  {
   "cell_type": "code",
   "execution_count": 169,
   "metadata": {},
   "outputs": [
    {
     "name": "stderr",
     "output_type": "stream",
     "text": [
      "/Users/abrarsafar/opt/anaconda3/lib/python3.8/site-packages/sklearn/linear_model/_coordinate_descent.py:529: ConvergenceWarning: Objective did not converge. You might want to increase the number of iterations. Duality gap: 46524068997940.06, tolerance: 269902431364.8962\n",
      "  model = cd_fast.enet_coordinate_descent(\n"
     ]
    },
    {
     "data": {
      "text/html": [
       "<div>\n",
       "<style scoped>\n",
       "    .dataframe tbody tr th:only-of-type {\n",
       "        vertical-align: middle;\n",
       "    }\n",
       "\n",
       "    .dataframe tbody tr th {\n",
       "        vertical-align: top;\n",
       "    }\n",
       "\n",
       "    .dataframe thead th {\n",
       "        text-align: right;\n",
       "    }\n",
       "</style>\n",
       "<table border=\"1\" class=\"dataframe\">\n",
       "  <thead>\n",
       "    <tr style=\"text-align: right;\">\n",
       "      <th></th>\n",
       "      <th>Model</th>\n",
       "      <th>MAE</th>\n",
       "      <th>MSE</th>\n",
       "      <th>RMSE</th>\n",
       "      <th>R2 Square</th>\n",
       "      <th>Cross Validation</th>\n",
       "    </tr>\n",
       "  </thead>\n",
       "  <tbody>\n",
       "    <tr>\n",
       "      <th>0</th>\n",
       "      <td>Linear Regression</td>\n",
       "      <td>603184.059423</td>\n",
       "      <td>1.057049e+12</td>\n",
       "      <td>1.028129e+06</td>\n",
       "      <td>0.726866</td>\n",
       "      <td>0.202569</td>\n",
       "    </tr>\n",
       "    <tr>\n",
       "      <th>1</th>\n",
       "      <td>Robust Regression</td>\n",
       "      <td>725362.643351</td>\n",
       "      <td>2.374562e+12</td>\n",
       "      <td>1.540961e+06</td>\n",
       "      <td>0.386429</td>\n",
       "      <td>0.319754</td>\n",
       "    </tr>\n",
       "    <tr>\n",
       "      <th>2</th>\n",
       "      <td>Ridge Regression</td>\n",
       "      <td>578932.379666</td>\n",
       "      <td>1.011359e+12</td>\n",
       "      <td>1.005663e+06</td>\n",
       "      <td>0.738672</td>\n",
       "      <td>0.207540</td>\n",
       "    </tr>\n",
       "    <tr>\n",
       "      <th>3</th>\n",
       "      <td>Lasso Regression</td>\n",
       "      <td>603184.068430</td>\n",
       "      <td>1.057049e+12</td>\n",
       "      <td>1.028129e+06</td>\n",
       "      <td>0.726866</td>\n",
       "      <td>0.211346</td>\n",
       "    </tr>\n",
       "  </tbody>\n",
       "</table>\n",
       "</div>"
      ],
      "text/plain": [
       "               Model            MAE           MSE          RMSE  R2 Square  \\\n",
       "0  Linear Regression  603184.059423  1.057049e+12  1.028129e+06   0.726866   \n",
       "1  Robust Regression  725362.643351  2.374562e+12  1.540961e+06   0.386429   \n",
       "2   Ridge Regression  578932.379666  1.011359e+12  1.005663e+06   0.738672   \n",
       "3   Lasso Regression  603184.068430  1.057049e+12  1.028129e+06   0.726866   \n",
       "\n",
       "   Cross Validation  \n",
       "0          0.202569  \n",
       "1          0.319754  \n",
       "2          0.207540  \n",
       "3          0.211346  "
      ]
     },
     "execution_count": 169,
     "metadata": {},
     "output_type": "execute_result"
    }
   ],
   "source": [
    "results_df_2 = pd.DataFrame(data=[[\"Lasso Regression\", *evaluate(y_test, test_pred) , cross_val(Lasso())]], \n",
    "                            columns=['Model', 'MAE', 'MSE', 'RMSE', 'R2 Square', \"Cross Validation\"])\n",
    "results_df = results_df.append(results_df_2, ignore_index=True)\n",
    "results_df"
   ]
  },
  {
   "cell_type": "code",
   "execution_count": 170,
   "metadata": {},
   "outputs": [
    {
     "name": "stdout",
     "output_type": "stream",
     "text": [
      "Train set evaluation:\n",
      "_____________________________________\n",
      "MAE: 516394.29237896256\n",
      "MSE: 1342940113210.4368\n",
      "RMSE: 1158852.9299313338\n",
      "R2 Square 0.6561362868563362\n",
      "====================================\n",
      "Test set evaluation:\n",
      "_____________________________________\n",
      "MAE: 600696.7807977669\n",
      "MSE: 1047069064668.9363\n",
      "RMSE: 1023263.9271805375\n",
      "R2 Square 0.7294443879137209\n"
     ]
    }
   ],
   "source": [
    "#Elastic Net\n",
    "from sklearn.linear_model import ElasticNet\n",
    "\n",
    "model = ElasticNet(alpha=0.1, l1_ratio=0.9, selection='random', random_state=42)\n",
    "model.fit(X_train, y_train)\n",
    "\n",
    "test_pred = model.predict(X_test)\n",
    "train_pred = model.predict(X_train)\n",
    "\n",
    "print('Train set evaluation:\\n_____________________________________')\n",
    "print_evaluate(y_train, train_pred)\n",
    "print('====================================')\n",
    "print('Test set evaluation:\\n_____________________________________')\n",
    "print_evaluate(y_test, test_pred)"
   ]
  },
  {
   "cell_type": "code",
   "execution_count": 171,
   "metadata": {},
   "outputs": [
    {
     "data": {
      "text/html": [
       "<div>\n",
       "<style scoped>\n",
       "    .dataframe tbody tr th:only-of-type {\n",
       "        vertical-align: middle;\n",
       "    }\n",
       "\n",
       "    .dataframe tbody tr th {\n",
       "        vertical-align: top;\n",
       "    }\n",
       "\n",
       "    .dataframe thead th {\n",
       "        text-align: right;\n",
       "    }\n",
       "</style>\n",
       "<table border=\"1\" class=\"dataframe\">\n",
       "  <thead>\n",
       "    <tr style=\"text-align: right;\">\n",
       "      <th></th>\n",
       "      <th>Model</th>\n",
       "      <th>MAE</th>\n",
       "      <th>MSE</th>\n",
       "      <th>RMSE</th>\n",
       "      <th>R2 Square</th>\n",
       "      <th>Cross Validation</th>\n",
       "    </tr>\n",
       "  </thead>\n",
       "  <tbody>\n",
       "    <tr>\n",
       "      <th>0</th>\n",
       "      <td>Linear Regression</td>\n",
       "      <td>603184.059423</td>\n",
       "      <td>1.057049e+12</td>\n",
       "      <td>1.028129e+06</td>\n",
       "      <td>0.726866</td>\n",
       "      <td>0.202569</td>\n",
       "    </tr>\n",
       "    <tr>\n",
       "      <th>1</th>\n",
       "      <td>Robust Regression</td>\n",
       "      <td>725362.643351</td>\n",
       "      <td>2.374562e+12</td>\n",
       "      <td>1.540961e+06</td>\n",
       "      <td>0.386429</td>\n",
       "      <td>0.319754</td>\n",
       "    </tr>\n",
       "    <tr>\n",
       "      <th>2</th>\n",
       "      <td>Ridge Regression</td>\n",
       "      <td>578932.379666</td>\n",
       "      <td>1.011359e+12</td>\n",
       "      <td>1.005663e+06</td>\n",
       "      <td>0.738672</td>\n",
       "      <td>0.207540</td>\n",
       "    </tr>\n",
       "    <tr>\n",
       "      <th>3</th>\n",
       "      <td>Lasso Regression</td>\n",
       "      <td>603184.068430</td>\n",
       "      <td>1.057049e+12</td>\n",
       "      <td>1.028129e+06</td>\n",
       "      <td>0.726866</td>\n",
       "      <td>0.211346</td>\n",
       "    </tr>\n",
       "    <tr>\n",
       "      <th>4</th>\n",
       "      <td>Elastic Net Regression</td>\n",
       "      <td>600696.780798</td>\n",
       "      <td>1.047069e+12</td>\n",
       "      <td>1.023264e+06</td>\n",
       "      <td>0.729444</td>\n",
       "      <td>0.128841</td>\n",
       "    </tr>\n",
       "  </tbody>\n",
       "</table>\n",
       "</div>"
      ],
      "text/plain": [
       "                    Model            MAE           MSE          RMSE  \\\n",
       "0       Linear Regression  603184.059423  1.057049e+12  1.028129e+06   \n",
       "1       Robust Regression  725362.643351  2.374562e+12  1.540961e+06   \n",
       "2        Ridge Regression  578932.379666  1.011359e+12  1.005663e+06   \n",
       "3        Lasso Regression  603184.068430  1.057049e+12  1.028129e+06   \n",
       "4  Elastic Net Regression  600696.780798  1.047069e+12  1.023264e+06   \n",
       "\n",
       "   R2 Square  Cross Validation  \n",
       "0   0.726866          0.202569  \n",
       "1   0.386429          0.319754  \n",
       "2   0.738672          0.207540  \n",
       "3   0.726866          0.211346  \n",
       "4   0.729444          0.128841  "
      ]
     },
     "execution_count": 171,
     "metadata": {},
     "output_type": "execute_result"
    }
   ],
   "source": [
    "results_df_2 = pd.DataFrame(data=[[\"Elastic Net Regression\", *evaluate(y_test, test_pred) , cross_val(ElasticNet())]], \n",
    "                            columns=['Model', 'MAE', 'MSE', 'RMSE', 'R2 Square', \"Cross Validation\"])\n",
    "results_df = results_df.append(results_df_2, ignore_index=True)\n",
    "results_df"
   ]
  },
  {
   "cell_type": "code",
   "execution_count": 172,
   "metadata": {},
   "outputs": [
    {
     "name": "stdout",
     "output_type": "stream",
     "text": [
      "Train set evaluation:\n",
      "_____________________________________\n",
      "MAE: 519120.005903641\n",
      "MSE: 1342423432556.2139\n",
      "RMSE: 1158629.9808636983\n",
      "R2 Square 0.6562685844372357\n",
      "====================================\n",
      "Test set evaluation:\n",
      "_____________________________________\n",
      "MAE: 603182.8723112037\n",
      "MSE: 1057044919353.266\n",
      "RMSE: 1028126.8984679206\n",
      "R2 Square 0.7268666940812172\n"
     ]
    },
    {
     "name": "stderr",
     "output_type": "stream",
     "text": [
      "/Users/abrarsafar/opt/anaconda3/lib/python3.8/site-packages/sklearn/linear_model/_stochastic_gradient.py:1208: ConvergenceWarning: Maximum number of iteration reached before convergence. Consider increasing max_iter to improve the fit.\n",
      "  warnings.warn(\"Maximum number of iteration reached before \"\n"
     ]
    }
   ],
   "source": [
    "#Gradient Descent\n",
    "from sklearn.linear_model import SGDRegressor\n",
    "\n",
    "sgd_reg = SGDRegressor(n_iter_no_change=250, penalty=None, eta0=0.0001, max_iter=100000)\n",
    "sgd_reg.fit(X_train, y_train)\n",
    "\n",
    "test_pred = sgd_reg.predict(X_test)\n",
    "train_pred = sgd_reg.predict(X_train)\n",
    "\n",
    "\n",
    "print('Train set evaluation:\\n_____________________________________')\n",
    "print_evaluate(y_train, train_pred)\n",
    "print('====================================')\n",
    "print('Test set evaluation:\\n_____________________________________')\n",
    "print_evaluate(y_test, test_pred)"
   ]
  },
  {
   "cell_type": "code",
   "execution_count": 173,
   "metadata": {},
   "outputs": [
    {
     "data": {
      "text/html": [
       "<div>\n",
       "<style scoped>\n",
       "    .dataframe tbody tr th:only-of-type {\n",
       "        vertical-align: middle;\n",
       "    }\n",
       "\n",
       "    .dataframe tbody tr th {\n",
       "        vertical-align: top;\n",
       "    }\n",
       "\n",
       "    .dataframe thead th {\n",
       "        text-align: right;\n",
       "    }\n",
       "</style>\n",
       "<table border=\"1\" class=\"dataframe\">\n",
       "  <thead>\n",
       "    <tr style=\"text-align: right;\">\n",
       "      <th></th>\n",
       "      <th>Model</th>\n",
       "      <th>MAE</th>\n",
       "      <th>MSE</th>\n",
       "      <th>RMSE</th>\n",
       "      <th>R2 Square</th>\n",
       "      <th>Cross Validation</th>\n",
       "    </tr>\n",
       "  </thead>\n",
       "  <tbody>\n",
       "    <tr>\n",
       "      <th>0</th>\n",
       "      <td>Linear Regression</td>\n",
       "      <td>603184.059423</td>\n",
       "      <td>1.057049e+12</td>\n",
       "      <td>1.028129e+06</td>\n",
       "      <td>0.726866</td>\n",
       "      <td>0.202569</td>\n",
       "    </tr>\n",
       "    <tr>\n",
       "      <th>1</th>\n",
       "      <td>Robust Regression</td>\n",
       "      <td>725362.643351</td>\n",
       "      <td>2.374562e+12</td>\n",
       "      <td>1.540961e+06</td>\n",
       "      <td>0.386429</td>\n",
       "      <td>0.319754</td>\n",
       "    </tr>\n",
       "    <tr>\n",
       "      <th>2</th>\n",
       "      <td>Ridge Regression</td>\n",
       "      <td>578932.379666</td>\n",
       "      <td>1.011359e+12</td>\n",
       "      <td>1.005663e+06</td>\n",
       "      <td>0.738672</td>\n",
       "      <td>0.207540</td>\n",
       "    </tr>\n",
       "    <tr>\n",
       "      <th>3</th>\n",
       "      <td>Lasso Regression</td>\n",
       "      <td>603184.068430</td>\n",
       "      <td>1.057049e+12</td>\n",
       "      <td>1.028129e+06</td>\n",
       "      <td>0.726866</td>\n",
       "      <td>0.211346</td>\n",
       "    </tr>\n",
       "    <tr>\n",
       "      <th>4</th>\n",
       "      <td>Elastic Net Regression</td>\n",
       "      <td>600696.780798</td>\n",
       "      <td>1.047069e+12</td>\n",
       "      <td>1.023264e+06</td>\n",
       "      <td>0.729444</td>\n",
       "      <td>0.128841</td>\n",
       "    </tr>\n",
       "    <tr>\n",
       "      <th>5</th>\n",
       "      <td>Stochastic Gradient Descent</td>\n",
       "      <td>603182.872311</td>\n",
       "      <td>1.057045e+12</td>\n",
       "      <td>1.028127e+06</td>\n",
       "      <td>0.726867</td>\n",
       "      <td>0.000000</td>\n",
       "    </tr>\n",
       "  </tbody>\n",
       "</table>\n",
       "</div>"
      ],
      "text/plain": [
       "                         Model            MAE           MSE          RMSE  \\\n",
       "0            Linear Regression  603184.059423  1.057049e+12  1.028129e+06   \n",
       "1            Robust Regression  725362.643351  2.374562e+12  1.540961e+06   \n",
       "2             Ridge Regression  578932.379666  1.011359e+12  1.005663e+06   \n",
       "3             Lasso Regression  603184.068430  1.057049e+12  1.028129e+06   \n",
       "4       Elastic Net Regression  600696.780798  1.047069e+12  1.023264e+06   \n",
       "5  Stochastic Gradient Descent  603182.872311  1.057045e+12  1.028127e+06   \n",
       "\n",
       "   R2 Square  Cross Validation  \n",
       "0   0.726866          0.202569  \n",
       "1   0.386429          0.319754  \n",
       "2   0.738672          0.207540  \n",
       "3   0.726866          0.211346  \n",
       "4   0.729444          0.128841  \n",
       "5   0.726867          0.000000  "
      ]
     },
     "execution_count": 173,
     "metadata": {},
     "output_type": "execute_result"
    }
   ],
   "source": [
    "results_df_2 = pd.DataFrame(data=[[\"Stochastic Gradient Descent\", *evaluate(y_test, test_pred), 0]], \n",
    "                            columns=['Model', 'MAE', 'MSE', 'RMSE', 'R2 Square', 'Cross Validation'])\n",
    "results_df = results_df.append(results_df_2, ignore_index=True)\n",
    "results_df"
   ]
  },
  {
   "cell_type": "code",
   "execution_count": 174,
   "metadata": {},
   "outputs": [
    {
     "name": "stdout",
     "output_type": "stream",
     "text": [
      "Train set evaluation:\n",
      "_____________________________________\n",
      "MAE: 210788.9434031583\n",
      "MSE: 336818972557.5\n",
      "RMSE: 580361.0708494325\n",
      "R2 Square 0.9137565246420583\n",
      "====================================\n",
      "Test set evaluation:\n",
      "_____________________________________\n",
      "MAE: 527134.9080302905\n",
      "MSE: 1603931746076.3674\n",
      "RMSE: 1266464.2695616672\n",
      "R2 Square 0.585554812049085\n"
     ]
    }
   ],
   "source": [
    "from sklearn.ensemble import RandomForestRegressor\n",
    "\n",
    "rf_reg = RandomForestRegressor(n_estimators=1000)\n",
    "rf_reg.fit(X_train, y_train)\n",
    "\n",
    "test_pred = rf_reg.predict(X_test)\n",
    "train_pred = rf_reg.predict(X_train)\n",
    "\n",
    "print('Train set evaluation:\\n_____________________________________')\n",
    "print_evaluate(y_train, train_pred)\n",
    "print('====================================')\n",
    "print('Test set evaluation:\\n_____________________________________')\n",
    "print_evaluate(y_test, test_pred)"
   ]
  },
  {
   "cell_type": "code",
   "execution_count": 175,
   "metadata": {
    "scrolled": true
   },
   "outputs": [
    {
     "name": "stdout",
     "output_type": "stream",
     "text": [
      "Epoch 1/150\n",
      "800/800 [==============================] - 1s 758us/step - loss: 7230232985600.0000 - val_loss: 7869159178240.0000\n",
      "Epoch 2/150\n",
      "800/800 [==============================] - 1s 668us/step - loss: 7230231937024.0000 - val_loss: 7869157081088.0000\n",
      "Epoch 3/150\n",
      "800/800 [==============================] - 1s 669us/step - loss: 7230234558464.0000 - val_loss: 7869156032512.0000\n",
      "Epoch 4/150\n",
      "800/800 [==============================] - 1s 673us/step - loss: 7230231412736.0000 - val_loss: 7869153411072.0000\n",
      "Epoch 5/150\n",
      "800/800 [==============================] - 1s 671us/step - loss: 7230234034176.0000 - val_loss: 7869146595328.0000\n",
      "Epoch 6/150\n",
      "800/800 [==============================] - 1s 666us/step - loss: 7230220402688.0000 - val_loss: 7869141876736.0000\n",
      "Epoch 7/150\n",
      "800/800 [==============================] - 1s 672us/step - loss: 7230215684096.0000 - val_loss: 7869132963840.0000\n",
      "Epoch 8/150\n",
      "800/800 [==============================] - 1s 673us/step - loss: 7230201004032.0000 - val_loss: 7869120905216.0000\n",
      "Epoch 9/150\n",
      "800/800 [==============================] - 1s 675us/step - loss: 7230191566848.0000 - val_loss: 7869103603712.0000\n",
      "Epoch 10/150\n",
      "800/800 [==============================] - 1s 671us/step - loss: 7230164303872.0000 - val_loss: 7869076865024.0000\n",
      "Epoch 11/150\n",
      "800/800 [==============================] - 1s 677us/step - loss: 7230133895168.0000 - val_loss: 7869040689152.0000\n",
      "Epoch 12/150\n",
      "800/800 [==============================] - 1s 685us/step - loss: 7230100340736.0000 - val_loss: 7868988784640.0000\n",
      "Epoch 13/150\n",
      "800/800 [==============================] - 1s 674us/step - loss: 7230037950464.0000 - val_loss: 7868919054336.0000\n",
      "Epoch 14/150\n",
      "800/800 [==============================] - 1s 671us/step - loss: 7229969268736.0000 - val_loss: 7868835692544.0000\n",
      "Epoch 15/150\n",
      "800/800 [==============================] - 1s 669us/step - loss: 7229883285504.0000 - val_loss: 7868728213504.0000\n",
      "Epoch 16/150\n",
      "800/800 [==============================] - 1s 668us/step - loss: 7229753262080.0000 - val_loss: 7868572499968.0000\n",
      "Epoch 17/150\n",
      "800/800 [==============================] - 1s 668us/step - loss: 7229602267136.0000 - val_loss: 7868401057792.0000\n",
      "Epoch 18/150\n",
      "800/800 [==============================] - 1s 667us/step - loss: 7229443407872.0000 - val_loss: 7868169322496.0000\n",
      "Epoch 19/150\n",
      "800/800 [==============================] - 1s 669us/step - loss: 7229165010944.0000 - val_loss: 7867875196928.0000\n",
      "Epoch 20/150\n",
      "800/800 [==============================] - 1s 665us/step - loss: 7228880846848.0000 - val_loss: 7867526021120.0000\n",
      "Epoch 21/150\n",
      "800/800 [==============================] - 1s 664us/step - loss: 7228533243904.0000 - val_loss: 7867087716352.0000\n",
      "Epoch 22/150\n",
      "800/800 [==============================] - 1s 663us/step - loss: 7228054568960.0000 - val_loss: 7866559234048.0000\n",
      "Epoch 23/150\n",
      "800/800 [==============================] - 1s 667us/step - loss: 7227517173760.0000 - val_loss: 7865938477056.0000\n",
      "Epoch 24/150\n",
      "800/800 [==============================] - 1s 662us/step - loss: 7226863386624.0000 - val_loss: 7865175113728.0000\n",
      "Epoch 25/150\n",
      "800/800 [==============================] - 1s 663us/step - loss: 7226131480576.0000 - val_loss: 7864267571200.0000\n",
      "Epoch 26/150\n",
      "800/800 [==============================] - 1s 663us/step - loss: 7225212928000.0000 - val_loss: 7863259889664.0000\n",
      "Epoch 27/150\n",
      "800/800 [==============================] - 1s 666us/step - loss: 7224116117504.0000 - val_loss: 7861974335488.0000\n",
      "Epoch 28/150\n",
      "800/800 [==============================] - 1s 663us/step - loss: 7222902915072.0000 - val_loss: 7860478541824.0000\n",
      "Epoch 29/150\n",
      "800/800 [==============================] - 1s 662us/step - loss: 7221462171648.0000 - val_loss: 7858713788416.0000\n",
      "Epoch 30/150\n",
      "800/800 [==============================] - 1s 659us/step - loss: 7219522830336.0000 - val_loss: 7856658055168.0000\n",
      "Epoch 31/150\n",
      "800/800 [==============================] - 1s 684us/step - loss: 7217455038464.0000 - val_loss: 7854363246592.0000\n",
      "Epoch 32/150\n",
      "800/800 [==============================] - 1s 762us/step - loss: 7215089451008.0000 - val_loss: 7851643240448.0000\n",
      "Epoch 33/150\n",
      "800/800 [==============================] - 1s 671us/step - loss: 7212455952384.0000 - val_loss: 7848707227648.0000\n",
      "Epoch 34/150\n",
      "800/800 [==============================] - 1s 673us/step - loss: 7209556115456.0000 - val_loss: 7845463982080.0000\n",
      "Epoch 35/150\n",
      "800/800 [==============================] - 1s 671us/step - loss: 7206029230080.0000 - val_loss: 7841333641216.0000\n",
      "Epoch 36/150\n",
      "800/800 [==============================] - 1s 672us/step - loss: 7202309406720.0000 - val_loss: 7837102637056.0000\n",
      "Epoch 37/150\n",
      "800/800 [==============================] - 1s 672us/step - loss: 7198425481216.0000 - val_loss: 7832011800576.0000\n",
      "Epoch 38/150\n",
      "800/800 [==============================] - 1s 673us/step - loss: 7193383927808.0000 - val_loss: 7826333237248.0000\n",
      "Epoch 39/150\n",
      "800/800 [==============================] - 1s 664us/step - loss: 7187784007680.0000 - val_loss: 7819832066048.0000\n",
      "Epoch 40/150\n",
      "800/800 [==============================] - 1s 669us/step - loss: 7181150191616.0000 - val_loss: 7812309057536.0000\n",
      "Epoch 41/150\n",
      "800/800 [==============================] - 1s 670us/step - loss: 7173468323840.0000 - val_loss: 7804169486336.0000\n",
      "Epoch 42/150\n",
      "800/800 [==============================] - 1s 667us/step - loss: 7164671295488.0000 - val_loss: 7794910560256.0000\n",
      "Epoch 43/150\n",
      "800/800 [==============================] - 1s 669us/step - loss: 7155504644096.0000 - val_loss: 7784383905792.0000\n",
      "Epoch 44/150\n",
      "800/800 [==============================] - 1s 668us/step - loss: 7145918038016.0000 - val_loss: 7773236494336.0000\n",
      "Epoch 45/150\n",
      "800/800 [==============================] - 1s 669us/step - loss: 7133423730688.0000 - val_loss: 7760610590720.0000\n",
      "Epoch 46/150\n",
      "800/800 [==============================] - 1s 668us/step - loss: 7122536890368.0000 - val_loss: 7747675881472.0000\n",
      "Epoch 47/150\n",
      "800/800 [==============================] - 1s 663us/step - loss: 7109124030464.0000 - val_loss: 7733333458944.0000\n",
      "Epoch 48/150\n",
      "800/800 [==============================] - 1s 675us/step - loss: 7097350094848.0000 - val_loss: 7717557108736.0000\n",
      "Epoch 49/150\n",
      "800/800 [==============================] - 1s 668us/step - loss: 7079090716672.0000 - val_loss: 7700550254592.0000\n",
      "Epoch 50/150\n",
      "800/800 [==============================] - 1s 666us/step - loss: 7064538578944.0000 - val_loss: 7681836318720.0000\n",
      "Epoch 51/150\n",
      "800/800 [==============================] - 1s 665us/step - loss: 7047760838656.0000 - val_loss: 7660393463808.0000\n",
      "Epoch 52/150\n",
      "800/800 [==============================] - 1s 663us/step - loss: 7028636385280.0000 - val_loss: 7637884731392.0000\n",
      "Epoch 53/150\n",
      "800/800 [==============================] - 1s 667us/step - loss: 7008061751296.0000 - val_loss: 7613037150208.0000\n",
      "Epoch 54/150\n",
      "800/800 [==============================] - 1s 663us/step - loss: 6979767500800.0000 - val_loss: 7586494021632.0000\n",
      "Epoch 55/150\n",
      "800/800 [==============================] - 1s 663us/step - loss: 6954127720448.0000 - val_loss: 7556711317504.0000\n",
      "Epoch 56/150\n",
      "800/800 [==============================] - 1s 661us/step - loss: 6925691912192.0000 - val_loss: 7525230444544.0000\n",
      "Epoch 57/150\n",
      "800/800 [==============================] - 1s 669us/step - loss: 6896046571520.0000 - val_loss: 7491377692672.0000\n",
      "Epoch 58/150\n",
      "800/800 [==============================] - 1s 663us/step - loss: 6859278778368.0000 - val_loss: 7455998214144.0000\n",
      "Epoch 59/150\n",
      "800/800 [==============================] - 1s 667us/step - loss: 6833258889216.0000 - val_loss: 7418121027584.0000\n",
      "Epoch 60/150\n",
      "800/800 [==============================] - 1s 662us/step - loss: 6795877679104.0000 - val_loss: 7375551987712.0000\n",
      "Epoch 61/150\n",
      "800/800 [==============================] - 1s 666us/step - loss: 6742859055104.0000 - val_loss: 7333278646272.0000\n",
      "Epoch 62/150\n",
      "800/800 [==============================] - 1s 667us/step - loss: 6718246354944.0000 - val_loss: 7287859576832.0000\n",
      "Epoch 63/150\n",
      "800/800 [==============================] - 1s 668us/step - loss: 6666360193024.0000 - val_loss: 7239184678912.0000\n",
      "Epoch 64/150\n",
      "800/800 [==============================] - 1s 661us/step - loss: 6634458316800.0000 - val_loss: 7187478347776.0000\n",
      "Epoch 65/150\n"
     ]
    },
    {
     "name": "stdout",
     "output_type": "stream",
     "text": [
      "800/800 [==============================] - 1s 661us/step - loss: 6576824385536.0000 - val_loss: 7133447847936.0000\n",
      "Epoch 66/150\n",
      "800/800 [==============================] - 1s 659us/step - loss: 6513179492352.0000 - val_loss: 7075256598528.0000\n",
      "Epoch 67/150\n",
      "800/800 [==============================] - 1s 669us/step - loss: 6471657979904.0000 - val_loss: 7017765273600.0000\n",
      "Epoch 68/150\n",
      "800/800 [==============================] - 1s 658us/step - loss: 6420690894848.0000 - val_loss: 6956306137088.0000\n",
      "Epoch 69/150\n",
      "800/800 [==============================] - 1s 652us/step - loss: 6358923476992.0000 - val_loss: 6893782171648.0000\n",
      "Epoch 70/150\n",
      "800/800 [==============================] - 1s 655us/step - loss: 6303450136576.0000 - val_loss: 6823318388736.0000\n",
      "Epoch 71/150\n",
      "800/800 [==============================] - 1s 659us/step - loss: 6243908845568.0000 - val_loss: 6758004162560.0000\n",
      "Epoch 72/150\n",
      "800/800 [==============================] - 1s 660us/step - loss: 6186514513920.0000 - val_loss: 6683447787520.0000\n",
      "Epoch 73/150\n",
      "800/800 [==============================] - 1s 655us/step - loss: 6101537914880.0000 - val_loss: 6611263291392.0000\n",
      "Epoch 74/150\n",
      "800/800 [==============================] - 1s 654us/step - loss: 6051509829632.0000 - val_loss: 6533632491520.0000\n",
      "Epoch 75/150\n",
      "800/800 [==============================] - 1s 653us/step - loss: 5988460003328.0000 - val_loss: 6457261031424.0000\n",
      "Epoch 76/150\n",
      "800/800 [==============================] - 1s 655us/step - loss: 5914405371904.0000 - val_loss: 6376525922304.0000\n",
      "Epoch 77/150\n",
      "800/800 [==============================] - 1s 649us/step - loss: 5840167763968.0000 - val_loss: 6295439540224.0000\n",
      "Epoch 78/150\n",
      "800/800 [==============================] - 1s 653us/step - loss: 5772071665664.0000 - val_loss: 6211728572416.0000\n",
      "Epoch 79/150\n",
      "800/800 [==============================] - 1s 654us/step - loss: 5695644631040.0000 - val_loss: 6127275737088.0000\n",
      "Epoch 80/150\n",
      "800/800 [==============================] - 1s 651us/step - loss: 5621014855680.0000 - val_loss: 6042465337344.0000\n",
      "Epoch 81/150\n",
      "800/800 [==============================] - 1s 661us/step - loss: 5538141175808.0000 - val_loss: 5951917129728.0000\n",
      "Epoch 82/150\n",
      "800/800 [==============================] - 1s 652us/step - loss: 5459491684352.0000 - val_loss: 5869209649152.0000\n",
      "Epoch 83/150\n",
      "800/800 [==============================] - 1s 658us/step - loss: 5401718292480.0000 - val_loss: 5786917928960.0000\n",
      "Epoch 84/150\n",
      "800/800 [==============================] - 1s 654us/step - loss: 5326984708096.0000 - val_loss: 5703326498816.0000\n",
      "Epoch 85/150\n",
      "800/800 [==============================] - 1s 652us/step - loss: 5278893342720.0000 - val_loss: 5623270342656.0000\n",
      "Epoch 86/150\n",
      "800/800 [==============================] - 1s 669us/step - loss: 5208040013824.0000 - val_loss: 5538335686656.0000\n",
      "Epoch 87/150\n",
      "800/800 [==============================] - 1s 670us/step - loss: 5114615562240.0000 - val_loss: 5461953740800.0000\n",
      "Epoch 88/150\n",
      "800/800 [==============================] - 1s 656us/step - loss: 5073216208896.0000 - val_loss: 5384313503744.0000\n",
      "Epoch 89/150\n",
      "800/800 [==============================] - 1s 672us/step - loss: 5020076998656.0000 - val_loss: 5304317116416.0000\n",
      "Epoch 90/150\n",
      "800/800 [==============================] - 1s 660us/step - loss: 4961704869888.0000 - val_loss: 5228910870528.0000\n",
      "Epoch 91/150\n",
      "800/800 [==============================] - 1s 662us/step - loss: 4900069048320.0000 - val_loss: 5151990480896.0000\n",
      "Epoch 92/150\n",
      "800/800 [==============================] - 1s 653us/step - loss: 4868416733184.0000 - val_loss: 5082141687808.0000\n",
      "Epoch 93/150\n",
      "800/800 [==============================] - 1s 647us/step - loss: 4768774750208.0000 - val_loss: 5006378401792.0000\n",
      "Epoch 94/150\n",
      "800/800 [==============================] - 1s 651us/step - loss: 4703109775360.0000 - val_loss: 4939059822592.0000\n",
      "Epoch 95/150\n",
      "800/800 [==============================] - 1s 659us/step - loss: 4657679171584.0000 - val_loss: 4874327556096.0000\n",
      "Epoch 96/150\n",
      "800/800 [==============================] - 1s 655us/step - loss: 4659679330304.0000 - val_loss: 4809088303104.0000\n",
      "Epoch 97/150\n",
      "800/800 [==============================] - 1s 656us/step - loss: 4593921556480.0000 - val_loss: 4744421048320.0000\n",
      "Epoch 98/150\n",
      "800/800 [==============================] - 1s 654us/step - loss: 4496682909696.0000 - val_loss: 4682387816448.0000\n",
      "Epoch 99/150\n",
      "800/800 [==============================] - 1s 652us/step - loss: 4492230131712.0000 - val_loss: 4628267663360.0000\n",
      "Epoch 100/150\n",
      "800/800 [==============================] - 1s 652us/step - loss: 4475312406528.0000 - val_loss: 4571744698368.0000\n",
      "Epoch 101/150\n",
      "800/800 [==============================] - 1s 657us/step - loss: 4438194388992.0000 - val_loss: 4518298779648.0000\n",
      "Epoch 102/150\n",
      "800/800 [==============================] - 1s 655us/step - loss: 4350411538432.0000 - val_loss: 4467351093248.0000\n",
      "Epoch 103/150\n",
      "800/800 [==============================] - 1s 652us/step - loss: 4347968094208.0000 - val_loss: 4416925073408.0000\n",
      "Epoch 104/150\n",
      "800/800 [==============================] - 1s 649us/step - loss: 4322049130496.0000 - val_loss: 4365891403776.0000\n",
      "Epoch 105/150\n",
      "800/800 [==============================] - 1s 651us/step - loss: 4272328802304.0000 - val_loss: 4316262825984.0000\n",
      "Epoch 106/150\n",
      "800/800 [==============================] - 1s 654us/step - loss: 4243746717696.0000 - val_loss: 4271000780800.0000\n",
      "Epoch 107/150\n",
      "800/800 [==============================] - 1s 653us/step - loss: 4189127966720.0000 - val_loss: 4226284519424.0000\n",
      "Epoch 108/150\n",
      "800/800 [==============================] - 1s 655us/step - loss: 4177128849408.0000 - val_loss: 4180075872256.0000\n",
      "Epoch 109/150\n",
      "800/800 [==============================] - 1s 653us/step - loss: 4184478842880.0000 - val_loss: 4140168380416.0000\n",
      "Epoch 110/150\n",
      "800/800 [==============================] - 1s 655us/step - loss: 4059564605440.0000 - val_loss: 4096110624768.0000\n",
      "Epoch 111/150\n",
      "800/800 [==============================] - 1s 655us/step - loss: 4099796893696.0000 - val_loss: 4054583345152.0000\n",
      "Epoch 112/150\n",
      "800/800 [==============================] - 1s 655us/step - loss: 4012816465920.0000 - val_loss: 4016249765888.0000\n",
      "Epoch 113/150\n",
      "800/800 [==============================] - 1s 667us/step - loss: 4012141969408.0000 - val_loss: 3976393129984.0000\n",
      "Epoch 114/150\n",
      "800/800 [==============================] - 1s 656us/step - loss: 3988857552896.0000 - val_loss: 3937835941888.0000\n",
      "Epoch 115/150\n",
      "800/800 [==============================] - 1s 655us/step - loss: 4063052169216.0000 - val_loss: 3900617785344.0000\n",
      "Epoch 116/150\n",
      "800/800 [==============================] - 1s 653us/step - loss: 3979717378048.0000 - val_loss: 3865277366272.0000\n",
      "Epoch 117/150\n",
      "800/800 [==============================] - 1s 656us/step - loss: 3913211445248.0000 - val_loss: 3828983267328.0000\n",
      "Epoch 118/150\n",
      "800/800 [==============================] - 1s 661us/step - loss: 3869440737280.0000 - val_loss: 3790687436800.0000\n",
      "Epoch 119/150\n",
      "800/800 [==============================] - 1s 654us/step - loss: 3937856651264.0000 - val_loss: 3756994854912.0000\n",
      "Epoch 120/150\n",
      "800/800 [==============================] - 1s 656us/step - loss: 3908274487296.0000 - val_loss: 3721893249024.0000\n",
      "Epoch 121/150\n",
      "800/800 [==============================] - 1s 656us/step - loss: 3852903383040.0000 - val_loss: 3689982984192.0000\n",
      "Epoch 122/150\n",
      "800/800 [==============================] - 1s 655us/step - loss: 3863919722496.0000 - val_loss: 3657545285632.0000\n",
      "Epoch 123/150\n",
      "800/800 [==============================] - 1s 653us/step - loss: 3802363854848.0000 - val_loss: 3627133435904.0000\n",
      "Epoch 124/150\n",
      "800/800 [==============================] - 1s 653us/step - loss: 3815077838848.0000 - val_loss: 3593704570880.0000\n",
      "Epoch 125/150\n",
      "800/800 [==============================] - 1s 666us/step - loss: 3664061661184.0000 - val_loss: 3558938509312.0000\n",
      "Epoch 126/150\n",
      "800/800 [==============================] - 1s 657us/step - loss: 3751593902080.0000 - val_loss: 3529035743232.0000\n",
      "Epoch 127/150\n",
      "800/800 [==============================] - 1s 652us/step - loss: 3657859334144.0000 - val_loss: 3498948689920.0000\n",
      "Epoch 128/150\n",
      "800/800 [==============================] - 1s 663us/step - loss: 3578170441728.0000 - val_loss: 3470306312192.0000\n"
     ]
    },
    {
     "name": "stdout",
     "output_type": "stream",
     "text": [
      "Epoch 129/150\n",
      "800/800 [==============================] - 1s 651us/step - loss: 3639163486208.0000 - val_loss: 3443183321088.0000\n",
      "Epoch 130/150\n",
      "800/800 [==============================] - 1s 654us/step - loss: 3611906539520.0000 - val_loss: 3416903385088.0000\n",
      "Epoch 131/150\n",
      "800/800 [==============================] - 1s 652us/step - loss: 3665442111488.0000 - val_loss: 3390528815104.0000\n",
      "Epoch 132/150\n",
      "800/800 [==============================] - 1s 653us/step - loss: 3664476897280.0000 - val_loss: 3362150940672.0000\n",
      "Epoch 133/150\n",
      "800/800 [==============================] - 1s 651us/step - loss: 3575853875200.0000 - val_loss: 3334309150720.0000\n",
      "Epoch 134/150\n",
      "800/800 [==============================] - 1s 660us/step - loss: 3543868375040.0000 - val_loss: 3305117843456.0000\n",
      "Epoch 135/150\n",
      "800/800 [==============================] - 1s 653us/step - loss: 3587521118208.0000 - val_loss: 3278748254208.0000\n",
      "Epoch 136/150\n",
      "800/800 [==============================] - 1s 651us/step - loss: 3540576632832.0000 - val_loss: 3252520222720.0000\n",
      "Epoch 137/150\n",
      "800/800 [==============================] - 1s 650us/step - loss: 3483508932608.0000 - val_loss: 3224626003968.0000\n",
      "Epoch 138/150\n",
      "800/800 [==============================] - 1s 650us/step - loss: 3446364962816.0000 - val_loss: 3198863802368.0000\n",
      "Epoch 139/150\n",
      "800/800 [==============================] - 1s 652us/step - loss: 3449790136320.0000 - val_loss: 3172174659584.0000\n",
      "Epoch 140/150\n",
      "800/800 [==============================] - 1s 653us/step - loss: 3430806454272.0000 - val_loss: 3146929930240.0000\n",
      "Epoch 141/150\n",
      "800/800 [==============================] - 1s 655us/step - loss: 3479136632832.0000 - val_loss: 3122968395776.0000\n",
      "Epoch 142/150\n",
      "800/800 [==============================] - 1s 651us/step - loss: 3353131876352.0000 - val_loss: 3097244467200.0000\n",
      "Epoch 143/150\n",
      "800/800 [==============================] - 1s 658us/step - loss: 3423281872896.0000 - val_loss: 3071531810816.0000\n",
      "Epoch 144/150\n",
      "800/800 [==============================] - 1s 651us/step - loss: 3451759624192.0000 - val_loss: 3051293769728.0000\n",
      "Epoch 145/150\n",
      "800/800 [==============================] - 1s 654us/step - loss: 3469943242752.0000 - val_loss: 3027222134784.0000\n",
      "Epoch 146/150\n",
      "800/800 [==============================] - 1s 653us/step - loss: 3333380898816.0000 - val_loss: 3003172257792.0000\n",
      "Epoch 147/150\n",
      "800/800 [==============================] - 1s 650us/step - loss: 3337919397888.0000 - val_loss: 2979422535680.0000\n",
      "Epoch 148/150\n",
      "800/800 [==============================] - 1s 661us/step - loss: 3265536196608.0000 - val_loss: 2955931811840.0000\n",
      "Epoch 149/150\n",
      "800/800 [==============================] - 1s 655us/step - loss: 3282414075904.0000 - val_loss: 2931974733824.0000\n",
      "Epoch 150/150\n",
      "800/800 [==============================] - 1s 656us/step - loss: 3265419018240.0000 - val_loss: 2907928526848.0000\n"
     ]
    }
   ],
   "source": [
    "from tensorflow.keras.models import Sequential\n",
    "from tensorflow.keras.layers import Input, Dense, Activation, Dropout\n",
    "from tensorflow.keras.optimizers import Adam\n",
    "\n",
    "X_train = np.array(X_train)\n",
    "X_test = np.array(X_test)\n",
    "y_train = np.array(y_train)\n",
    "y_test = np.array(y_test)\n",
    "\n",
    "model = Sequential()\n",
    "\n",
    "model.add(Dense(X_train.shape[1], activation='relu'))\n",
    "model.add(Dense(32, activation='relu'))\n",
    "model.add(Dropout(0.2))\n",
    "\n",
    "model.add(Dense(64, activation='relu'))\n",
    "model.add(Dropout(0.2))\n",
    "\n",
    "model.add(Dense(128, activation='relu'))\n",
    "model.add(Dropout(0.2))\n",
    "\n",
    "model.add(Dense(264, activation='relu'))\n",
    "model.add(Dropout(0.1))\n",
    "model.add(Dense(1))\n",
    "\n",
    "model.compile(optimizer=Adam(0.00001), loss='mse')\n",
    "\n",
    "r = model.fit(X_train, y_train,\n",
    "              validation_data=(X_test,y_test),\n",
    "              batch_size=1,\n",
    "              epochs=150)"
   ]
  },
  {
   "cell_type": "code",
   "execution_count": 176,
   "metadata": {},
   "outputs": [
    {
     "data": {
      "text/plain": [
       "<matplotlib.legend.Legend at 0x7fa78a25d100>"
      ]
     },
     "execution_count": 176,
     "metadata": {},
     "output_type": "execute_result"
    },
    {
     "data": {
      "image/png": "[encoded data removed]",
      "text/plain": [
       "<Figure size 720x432 with 1 Axes>"
      ]
     },
     "metadata": {
      "image/png": {
       "height": 380,
       "width": 591
      },
      "needs_background": "light"
     },
     "output_type": "display_data"
    }
   ],
   "source": [
    "plt.figure(figsize=(10, 6))\n",
    "\n",
    "plt.plot(r.history['loss'], label='loss')\n",
    "plt.plot(r.history['val_loss'], label='val_loss')\n",
    "plt.legend()"
   ]
  },
  {
   "cell_type": "code",
   "execution_count": 177,
   "metadata": {},
   "outputs": [
    {
     "name": "stdout",
     "output_type": "stream",
     "text": [
      "Train set evaluation:\n",
      "_____________________________________\n",
      "MAE: 877058.951484375\n",
      "MSE: 3213209477611.1426\n",
      "RMSE: 1792542.7408045651\n",
      "R2 Square 0.17724838865793668\n",
      "====================================\n",
      "Test set evaluation:\n",
      "_____________________________________\n",
      "MAE: 979698.48\n",
      "MSE: 2907928942795.851\n",
      "RMSE: 1705265.0652599\n",
      "R2 Square 0.24861069668761937\n"
     ]
    }
   ],
   "source": [
    "test_pred = model.predict(X_test)\n",
    "train_pred = model.predict(X_train)\n",
    "\n",
    "print('Train set evaluation:\\n_____________________________________')\n",
    "print_evaluate(y_train, train_pred)\n",
    "print('====================================')\n",
    "print('Test set evaluation:\\n_____________________________________')\n",
    "print_evaluate(y_test, test_pred)"
   ]
  },
  {
   "cell_type": "code",
   "execution_count": 178,
   "metadata": {},
   "outputs": [
    {
     "data": {
      "text/html": [
       "<div>\n",
       "<style scoped>\n",
       "    .dataframe tbody tr th:only-of-type {\n",
       "        vertical-align: middle;\n",
       "    }\n",
       "\n",
       "    .dataframe tbody tr th {\n",
       "        vertical-align: top;\n",
       "    }\n",
       "\n",
       "    .dataframe thead th {\n",
       "        text-align: right;\n",
       "    }\n",
       "</style>\n",
       "<table border=\"1\" class=\"dataframe\">\n",
       "  <thead>\n",
       "    <tr style=\"text-align: right;\">\n",
       "      <th></th>\n",
       "      <th>Model</th>\n",
       "      <th>MAE</th>\n",
       "      <th>MSE</th>\n",
       "      <th>RMSE</th>\n",
       "      <th>R2 Square</th>\n",
       "      <th>Cross Validation</th>\n",
       "    </tr>\n",
       "  </thead>\n",
       "  <tbody>\n",
       "    <tr>\n",
       "      <th>0</th>\n",
       "      <td>Linear Regression</td>\n",
       "      <td>603184.059423</td>\n",
       "      <td>1.057049e+12</td>\n",
       "      <td>1.028129e+06</td>\n",
       "      <td>0.726866</td>\n",
       "      <td>0.202569</td>\n",
       "    </tr>\n",
       "    <tr>\n",
       "      <th>1</th>\n",
       "      <td>Robust Regression</td>\n",
       "      <td>725362.643351</td>\n",
       "      <td>2.374562e+12</td>\n",
       "      <td>1.540961e+06</td>\n",
       "      <td>0.386429</td>\n",
       "      <td>0.319754</td>\n",
       "    </tr>\n",
       "    <tr>\n",
       "      <th>2</th>\n",
       "      <td>Ridge Regression</td>\n",
       "      <td>578932.379666</td>\n",
       "      <td>1.011359e+12</td>\n",
       "      <td>1.005663e+06</td>\n",
       "      <td>0.738672</td>\n",
       "      <td>0.207540</td>\n",
       "    </tr>\n",
       "    <tr>\n",
       "      <th>3</th>\n",
       "      <td>Lasso Regression</td>\n",
       "      <td>603184.068430</td>\n",
       "      <td>1.057049e+12</td>\n",
       "      <td>1.028129e+06</td>\n",
       "      <td>0.726866</td>\n",
       "      <td>0.211346</td>\n",
       "    </tr>\n",
       "    <tr>\n",
       "      <th>4</th>\n",
       "      <td>Elastic Net Regression</td>\n",
       "      <td>600696.780798</td>\n",
       "      <td>1.047069e+12</td>\n",
       "      <td>1.023264e+06</td>\n",
       "      <td>0.729444</td>\n",
       "      <td>0.128841</td>\n",
       "    </tr>\n",
       "    <tr>\n",
       "      <th>5</th>\n",
       "      <td>Stochastic Gradient Descent</td>\n",
       "      <td>603182.872311</td>\n",
       "      <td>1.057045e+12</td>\n",
       "      <td>1.028127e+06</td>\n",
       "      <td>0.726867</td>\n",
       "      <td>0.000000</td>\n",
       "    </tr>\n",
       "    <tr>\n",
       "      <th>6</th>\n",
       "      <td>Artficial Neural Network</td>\n",
       "      <td>979698.480000</td>\n",
       "      <td>2.907929e+12</td>\n",
       "      <td>1.705265e+06</td>\n",
       "      <td>0.248611</td>\n",
       "      <td>0.000000</td>\n",
       "    </tr>\n",
       "  </tbody>\n",
       "</table>\n",
       "</div>"
      ],
      "text/plain": [
       "                         Model            MAE           MSE          RMSE  \\\n",
       "0            Linear Regression  603184.059423  1.057049e+12  1.028129e+06   \n",
       "1            Robust Regression  725362.643351  2.374562e+12  1.540961e+06   \n",
       "2             Ridge Regression  578932.379666  1.011359e+12  1.005663e+06   \n",
       "3             Lasso Regression  603184.068430  1.057049e+12  1.028129e+06   \n",
       "4       Elastic Net Regression  600696.780798  1.047069e+12  1.023264e+06   \n",
       "5  Stochastic Gradient Descent  603182.872311  1.057045e+12  1.028127e+06   \n",
       "6     Artficial Neural Network  979698.480000  2.907929e+12  1.705265e+06   \n",
       "\n",
       "   R2 Square  Cross Validation  \n",
       "0   0.726866          0.202569  \n",
       "1   0.386429          0.319754  \n",
       "2   0.738672          0.207540  \n",
       "3   0.726866          0.211346  \n",
       "4   0.729444          0.128841  \n",
       "5   0.726867          0.000000  \n",
       "6   0.248611          0.000000  "
      ]
     },
     "execution_count": 178,
     "metadata": {},
     "output_type": "execute_result"
    }
   ],
   "source": [
    "results_df_2 = pd.DataFrame(data=[[\"Artficial Neural Network\", *evaluate(y_test, test_pred), 0]], \n",
    "                            columns=['Model', 'MAE', 'MSE', 'RMSE', 'R2 Square', 'Cross Validation'])\n",
    "results_df = results_df.append(results_df_2, ignore_index=True)\n",
    "results_df"
   ]
  },
  {
   "cell_type": "code",
   "execution_count": 179,
   "metadata": {},
   "outputs": [
    {
     "name": "stdout",
     "output_type": "stream",
     "text": [
      "Train set evaluation:\n",
      "_____________________________________\n",
      "MAE: 415517.22191692307\n",
      "MSE: 2052662006095.6843\n",
      "RMSE: 1432711.417591025\n",
      "R2 Square 0.47440993659977115\n",
      "====================================\n",
      "Test set evaluation:\n",
      "_____________________________________\n",
      "MAE: 537837.5639429949\n",
      "MSE: 1407878383119.9233\n",
      "RMSE: 1186540.5105262625\n",
      "R2 Square 0.6362136839478795\n"
     ]
    }
   ],
   "source": [
    "#Support Vector Machine\n",
    "from sklearn.svm import SVR\n",
    "\n",
    "svm_reg = SVR(kernel='rbf', C=1000000, epsilon=0.001)\n",
    "svm_reg.fit(X_train, y_train)\n",
    "\n",
    "test_pred = svm_reg.predict(X_test)\n",
    "train_pred = svm_reg.predict(X_train)\n",
    "\n",
    "print('Train set evaluation:\\n_____________________________________')\n",
    "print_evaluate(y_train, train_pred)\n",
    "print('====================================')\n",
    "print('Test set evaluation:\\n_____________________________________')\n",
    "print_evaluate(y_test, test_pred)"
   ]
  },
  {
   "cell_type": "code",
   "execution_count": 180,
   "metadata": {},
   "outputs": [
    {
     "data": {
      "text/html": [
       "<div>\n",
       "<style scoped>\n",
       "    .dataframe tbody tr th:only-of-type {\n",
       "        vertical-align: middle;\n",
       "    }\n",
       "\n",
       "    .dataframe tbody tr th {\n",
       "        vertical-align: top;\n",
       "    }\n",
       "\n",
       "    .dataframe thead th {\n",
       "        text-align: right;\n",
       "    }\n",
       "</style>\n",
       "<table border=\"1\" class=\"dataframe\">\n",
       "  <thead>\n",
       "    <tr style=\"text-align: right;\">\n",
       "      <th></th>\n",
       "      <th>Model</th>\n",
       "      <th>MAE</th>\n",
       "      <th>MSE</th>\n",
       "      <th>RMSE</th>\n",
       "      <th>R2 Square</th>\n",
       "      <th>Cross Validation</th>\n",
       "    </tr>\n",
       "  </thead>\n",
       "  <tbody>\n",
       "    <tr>\n",
       "      <th>0</th>\n",
       "      <td>Linear Regression</td>\n",
       "      <td>603184.059423</td>\n",
       "      <td>1.057049e+12</td>\n",
       "      <td>1.028129e+06</td>\n",
       "      <td>0.726866</td>\n",
       "      <td>0.202569</td>\n",
       "    </tr>\n",
       "    <tr>\n",
       "      <th>1</th>\n",
       "      <td>Robust Regression</td>\n",
       "      <td>725362.643351</td>\n",
       "      <td>2.374562e+12</td>\n",
       "      <td>1.540961e+06</td>\n",
       "      <td>0.386429</td>\n",
       "      <td>0.319754</td>\n",
       "    </tr>\n",
       "    <tr>\n",
       "      <th>2</th>\n",
       "      <td>Ridge Regression</td>\n",
       "      <td>578932.379666</td>\n",
       "      <td>1.011359e+12</td>\n",
       "      <td>1.005663e+06</td>\n",
       "      <td>0.738672</td>\n",
       "      <td>0.207540</td>\n",
       "    </tr>\n",
       "    <tr>\n",
       "      <th>3</th>\n",
       "      <td>Lasso Regression</td>\n",
       "      <td>603184.068430</td>\n",
       "      <td>1.057049e+12</td>\n",
       "      <td>1.028129e+06</td>\n",
       "      <td>0.726866</td>\n",
       "      <td>0.211346</td>\n",
       "    </tr>\n",
       "    <tr>\n",
       "      <th>4</th>\n",
       "      <td>Elastic Net Regression</td>\n",
       "      <td>600696.780798</td>\n",
       "      <td>1.047069e+12</td>\n",
       "      <td>1.023264e+06</td>\n",
       "      <td>0.729444</td>\n",
       "      <td>0.128841</td>\n",
       "    </tr>\n",
       "    <tr>\n",
       "      <th>5</th>\n",
       "      <td>Stochastic Gradient Descent</td>\n",
       "      <td>603182.872311</td>\n",
       "      <td>1.057045e+12</td>\n",
       "      <td>1.028127e+06</td>\n",
       "      <td>0.726867</td>\n",
       "      <td>0.000000</td>\n",
       "    </tr>\n",
       "    <tr>\n",
       "      <th>6</th>\n",
       "      <td>Artficial Neural Network</td>\n",
       "      <td>979698.480000</td>\n",
       "      <td>2.907929e+12</td>\n",
       "      <td>1.705265e+06</td>\n",
       "      <td>0.248611</td>\n",
       "      <td>0.000000</td>\n",
       "    </tr>\n",
       "    <tr>\n",
       "      <th>7</th>\n",
       "      <td>SVM Regressor</td>\n",
       "      <td>537837.563943</td>\n",
       "      <td>1.407878e+12</td>\n",
       "      <td>1.186541e+06</td>\n",
       "      <td>0.636214</td>\n",
       "      <td>0.000000</td>\n",
       "    </tr>\n",
       "  </tbody>\n",
       "</table>\n",
       "</div>"
      ],
      "text/plain": [
       "                         Model            MAE           MSE          RMSE  \\\n",
       "0            Linear Regression  603184.059423  1.057049e+12  1.028129e+06   \n",
       "1            Robust Regression  725362.643351  2.374562e+12  1.540961e+06   \n",
       "2             Ridge Regression  578932.379666  1.011359e+12  1.005663e+06   \n",
       "3             Lasso Regression  603184.068430  1.057049e+12  1.028129e+06   \n",
       "4       Elastic Net Regression  600696.780798  1.047069e+12  1.023264e+06   \n",
       "5  Stochastic Gradient Descent  603182.872311  1.057045e+12  1.028127e+06   \n",
       "6     Artficial Neural Network  979698.480000  2.907929e+12  1.705265e+06   \n",
       "7                SVM Regressor  537837.563943  1.407878e+12  1.186541e+06   \n",
       "\n",
       "   R2 Square  Cross Validation  \n",
       "0   0.726866          0.202569  \n",
       "1   0.386429          0.319754  \n",
       "2   0.738672          0.207540  \n",
       "3   0.726866          0.211346  \n",
       "4   0.729444          0.128841  \n",
       "5   0.726867          0.000000  \n",
       "6   0.248611          0.000000  \n",
       "7   0.636214          0.000000  "
      ]
     },
     "execution_count": 180,
     "metadata": {},
     "output_type": "execute_result"
    }
   ],
   "source": [
    "results_df_2 = pd.DataFrame(data=[[\"SVM Regressor\", *evaluate(y_test, test_pred), 0]], \n",
    "                            columns=['Model', 'MAE', 'MSE', 'RMSE', 'R2 Square', 'Cross Validation'])\n",
    "results_df = results_df.append(results_df_2, ignore_index=True)\n",
    "results_df"
   ]
  },
  {
   "cell_type": "code",
   "execution_count": 181,
   "metadata": {},
   "outputs": [
    {
     "data": {
      "text/plain": [
       "<AxesSubplot:ylabel='Model'>"
      ]
     },
     "execution_count": 181,
     "metadata": {},
     "output_type": "execute_result"
    },
    {
     "data": {
      "image/png": "[encoded data removed]",
      "text/plain": [
       "<Figure size 864x576 with 1 Axes>"
      ]
     },
     "metadata": {
      "image/png": {
       "height": 474,
       "width": 922
      },
      "needs_background": "light"
     },
     "output_type": "display_data"
    }
   ],
   "source": [
    "results_df.set_index('Model', inplace=True)\n",
    "results_df['R2 Square'].plot(kind='barh', figsize=(12, 8))"
   ]
  },
  {
   "cell_type": "code",
   "execution_count": 182,
   "metadata": {},
   "outputs": [],
   "source": [
    "# save the model we want to deploy \n",
    "#Ridge Regression"
   ]
  },
  {
   "cell_type": "code",
   "execution_count": 9,
   "metadata": {},
   "outputs": [],
   "source": [
    "import pickle\n",
    "import numpy as np\n",
    "from flask import Flask, request, render_template\n",
    "\n",
    "model = pickle.load(open('model.pkl','rb'))\n",
    "pickle.dump(model, open('model.pkl','wb'))"
   ]
  }
 ],
 "metadata": {
  "kernelspec": {
   "display_name": "Python 3",
   "language": "python",
   "name": "python3"
  },
  "language_info": {
   "codemirror_mode": {
    "name": "ipython",
    "version": 3
   },
   "file_extension": ".py",
   "mimetype": "text/x-python",
   "name": "python",
   "nbconvert_exporter": "python",
   "pygments_lexer": "ipython3",
   "version": "3.8.3"
  }
 },
 "nbformat": 4,
 "nbformat_minor": 4
}
